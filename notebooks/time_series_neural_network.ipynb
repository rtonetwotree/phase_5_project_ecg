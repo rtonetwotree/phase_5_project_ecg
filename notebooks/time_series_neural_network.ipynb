{
 "cells": [
  {
   "cell_type": "markdown",
   "id": "8a00172b-9894-4971-a537-441334e1f38d",
   "metadata": {},
   "source": [
    "## First Neural Network"
   ]
  },
  {
   "cell_type": "code",
   "execution_count": 1,
   "id": "96435299-050b-4010-b57c-cc490b83b705",
   "metadata": {},
   "outputs": [
    {
     "name": "stderr",
     "output_type": "stream",
     "text": [
      "/Users/ry/anaconda3/envs/tf-gpu/lib/python3.9/site-packages/dask/dataframe/_pyarrow_compat.py:17: FutureWarning: Minimal version of pyarrow will soon be increased to 14.0.1. You are using 12.0.1. Please consider upgrading.\n",
      "  warnings.warn(\n"
     ]
    }
   ],
   "source": [
    "import pandas as pd\n",
    "import numpy as np\n",
    "from tsfresh import extract_features\n",
    "from tsfresh.feature_extraction import ComprehensiveFCParameters\n",
    "\n",
    "# If you need to plot or visualize data later on\n",
    "import matplotlib.pyplot as plt\n",
    "import seaborn as sns\n",
    "\n",
    "# For any data preprocessing or manipulation\n",
    "from sklearn.model_selection import train_test_split\n",
    "from sklearn.preprocessing import StandardScaler\n",
    "\n",
    "# Depending on the models you plan to use\n",
    "from sklearn.ensemble import RandomForestClassifier\n",
    "from sklearn.metrics import accuracy_score, classification_report\n"
   ]
  },
  {
   "cell_type": "markdown",
   "id": "38da3325-d76d-421e-94d0-0596c6b95d3b",
   "metadata": {},
   "source": [
    "## Dataset"
   ]
  },
  {
   "cell_type": "code",
   "execution_count": 2,
   "id": "37dbff3e-7b6b-4798-9190-3d0180925068",
   "metadata": {},
   "outputs": [],
   "source": [
    "fazeli_mitbih_train_df = pd.read_csv('../data/mitbih_train.csv', header=None)"
   ]
  },
  {
   "cell_type": "code",
   "execution_count": 3,
   "id": "74aed28a-031c-4298-a7f8-3d01d46e93be",
   "metadata": {},
   "outputs": [
    {
     "data": {
      "text/plain": [
       "187\n",
       "0.0    72471\n",
       "4.0     6431\n",
       "2.0     5788\n",
       "1.0     2223\n",
       "3.0      641\n",
       "Name: count, dtype: int64"
      ]
     },
     "execution_count": 3,
     "metadata": {},
     "output_type": "execute_result"
    }
   ],
   "source": [
    "column_187 = fazeli_mitbih_train_df.iloc[:, 187]\n",
    "column_187.value_counts()"
   ]
  },
  {
   "cell_type": "markdown",
   "id": "dee19804-7f3c-4139-8068-df2c0700db04",
   "metadata": {},
   "source": [
    "## Comprehensive Feature Extraction\n",
    "\n",
    "using tsfresh time series comprehensive feature extraction package"
   ]
  },
  {
   "cell_type": "markdown",
   "id": "e950b2da-a4ef-4a60-b0bf-c3be621ba4da",
   "metadata": {},
   "source": [
    "### Next cell takes 15-30 min to run"
   ]
  },
  {
   "cell_type": "code",
   "execution_count": 4,
   "id": "eb38587e-4ec4-449d-80dd-366aa28a7e83",
   "metadata": {},
   "outputs": [
    {
     "name": "stderr",
     "output_type": "stream",
     "text": [
      "Feature Extraction:   0%|                                | 0/35 [00:00<?, ?it/s]/Users/ry/anaconda3/envs/tf-gpu/lib/python3.9/site-packages/dask/dataframe/_pyarrow_compat.py:17: FutureWarning: Minimal version of pyarrow will soon be increased to 14.0.1. You are using 12.0.1. Please consider upgrading.\n",
      "  warnings.warn(\n",
      "/Users/ry/anaconda3/envs/tf-gpu/lib/python3.9/site-packages/dask/dataframe/_pyarrow_compat.py:17: FutureWarning: Minimal version of pyarrow will soon be increased to 14.0.1. You are using 12.0.1. Please consider upgrading.\n",
      "  warnings.warn(\n",
      "/Users/ry/anaconda3/envs/tf-gpu/lib/python3.9/site-packages/dask/dataframe/_pyarrow_compat.py:17: FutureWarning: Minimal version of pyarrow will soon be increased to 14.0.1. You are using 12.0.1. Please consider upgrading.\n",
      "  warnings.warn(\n",
      "/Users/ry/anaconda3/envs/tf-gpu/lib/python3.9/site-packages/dask/dataframe/_pyarrow_compat.py:17: FutureWarning: Minimal version of pyarrow will soon be increased to 14.0.1. You are using 12.0.1. Please consider upgrading.\n",
      "  warnings.warn(\n",
      "/Users/ry/anaconda3/envs/tf-gpu/lib/python3.9/site-packages/dask/dataframe/_pyarrow_compat.py:17: FutureWarning: Minimal version of pyarrow will soon be increased to 14.0.1. You are using 12.0.1. Please consider upgrading.\n",
      "  warnings.warn(\n",
      "/Users/ry/anaconda3/envs/tf-gpu/lib/python3.9/site-packages/dask/dataframe/_pyarrow_compat.py:17: FutureWarning: Minimal version of pyarrow will soon be increased to 14.0.1. You are using 12.0.1. Please consider upgrading.\n",
      "  warnings.warn(\n",
      "/Users/ry/anaconda3/envs/tf-gpu/lib/python3.9/site-packages/dask/dataframe/_pyarrow_compat.py:17: FutureWarning: Minimal version of pyarrow will soon be increased to 14.0.1. You are using 12.0.1. Please consider upgrading.\n",
      "  warnings.warn(\n",
      "Feature Extraction: 100%|███████████████████████| 35/35 [01:07<00:00,  1.92s/it]\n",
      "Feature Extraction:   0%|                                | 0/35 [00:00<?, ?it/s]/Users/ry/anaconda3/envs/tf-gpu/lib/python3.9/site-packages/dask/dataframe/_pyarrow_compat.py:17: FutureWarning: Minimal version of pyarrow will soon be increased to 14.0.1. You are using 12.0.1. Please consider upgrading.\n",
      "  warnings.warn(\n",
      "/Users/ry/anaconda3/envs/tf-gpu/lib/python3.9/site-packages/dask/dataframe/_pyarrow_compat.py:17: FutureWarning: Minimal version of pyarrow will soon be increased to 14.0.1. You are using 12.0.1. Please consider upgrading.\n",
      "  warnings.warn(\n",
      "/Users/ry/anaconda3/envs/tf-gpu/lib/python3.9/site-packages/dask/dataframe/_pyarrow_compat.py:17: FutureWarning: Minimal version of pyarrow will soon be increased to 14.0.1. You are using 12.0.1. Please consider upgrading.\n",
      "  warnings.warn(\n",
      "/Users/ry/anaconda3/envs/tf-gpu/lib/python3.9/site-packages/dask/dataframe/_pyarrow_compat.py:17: FutureWarning: Minimal version of pyarrow will soon be increased to 14.0.1. You are using 12.0.1. Please consider upgrading.\n",
      "  warnings.warn(\n",
      "/Users/ry/anaconda3/envs/tf-gpu/lib/python3.9/site-packages/dask/dataframe/_pyarrow_compat.py:17: FutureWarning: Minimal version of pyarrow will soon be increased to 14.0.1. You are using 12.0.1. Please consider upgrading.\n",
      "  warnings.warn(\n",
      "/Users/ry/anaconda3/envs/tf-gpu/lib/python3.9/site-packages/dask/dataframe/_pyarrow_compat.py:17: FutureWarning: Minimal version of pyarrow will soon be increased to 14.0.1. You are using 12.0.1. Please consider upgrading.\n",
      "  warnings.warn(\n",
      "/Users/ry/anaconda3/envs/tf-gpu/lib/python3.9/site-packages/dask/dataframe/_pyarrow_compat.py:17: FutureWarning: Minimal version of pyarrow will soon be increased to 14.0.1. You are using 12.0.1. Please consider upgrading.\n",
      "  warnings.warn(\n",
      "Feature Extraction: 100%|███████████████████████| 35/35 [01:09<00:00,  1.98s/it]\n",
      "Feature Extraction:   0%|                                | 0/35 [00:00<?, ?it/s]/Users/ry/anaconda3/envs/tf-gpu/lib/python3.9/site-packages/dask/dataframe/_pyarrow_compat.py:17: FutureWarning: Minimal version of pyarrow will soon be increased to 14.0.1. You are using 12.0.1. Please consider upgrading.\n",
      "  warnings.warn(\n",
      "/Users/ry/anaconda3/envs/tf-gpu/lib/python3.9/site-packages/dask/dataframe/_pyarrow_compat.py:17: FutureWarning: Minimal version of pyarrow will soon be increased to 14.0.1. You are using 12.0.1. Please consider upgrading.\n",
      "  warnings.warn(\n",
      "/Users/ry/anaconda3/envs/tf-gpu/lib/python3.9/site-packages/dask/dataframe/_pyarrow_compat.py:17: FutureWarning: Minimal version of pyarrow will soon be increased to 14.0.1. You are using 12.0.1. Please consider upgrading.\n",
      "  warnings.warn(\n",
      "/Users/ry/anaconda3/envs/tf-gpu/lib/python3.9/site-packages/dask/dataframe/_pyarrow_compat.py:17: FutureWarning: Minimal version of pyarrow will soon be increased to 14.0.1. You are using 12.0.1. Please consider upgrading.\n",
      "  warnings.warn(\n",
      "/Users/ry/anaconda3/envs/tf-gpu/lib/python3.9/site-packages/dask/dataframe/_pyarrow_compat.py:17: FutureWarning: Minimal version of pyarrow will soon be increased to 14.0.1. You are using 12.0.1. Please consider upgrading.\n",
      "  warnings.warn(\n",
      "/Users/ry/anaconda3/envs/tf-gpu/lib/python3.9/site-packages/dask/dataframe/_pyarrow_compat.py:17: FutureWarning: Minimal version of pyarrow will soon be increased to 14.0.1. You are using 12.0.1. Please consider upgrading.\n",
      "  warnings.warn(\n",
      "/Users/ry/anaconda3/envs/tf-gpu/lib/python3.9/site-packages/dask/dataframe/_pyarrow_compat.py:17: FutureWarning: Minimal version of pyarrow will soon be increased to 14.0.1. You are using 12.0.1. Please consider upgrading.\n",
      "  warnings.warn(\n",
      "Feature Extraction: 100%|███████████████████████| 35/35 [01:11<00:00,  2.05s/it]\n",
      "Feature Extraction:   0%|                                | 0/35 [00:00<?, ?it/s]/Users/ry/anaconda3/envs/tf-gpu/lib/python3.9/site-packages/dask/dataframe/_pyarrow_compat.py:17: FutureWarning: Minimal version of pyarrow will soon be increased to 14.0.1. You are using 12.0.1. Please consider upgrading.\n",
      "  warnings.warn(\n",
      "/Users/ry/anaconda3/envs/tf-gpu/lib/python3.9/site-packages/dask/dataframe/_pyarrow_compat.py:17: FutureWarning: Minimal version of pyarrow will soon be increased to 14.0.1. You are using 12.0.1. Please consider upgrading.\n",
      "  warnings.warn(\n",
      "/Users/ry/anaconda3/envs/tf-gpu/lib/python3.9/site-packages/dask/dataframe/_pyarrow_compat.py:17: FutureWarning: Minimal version of pyarrow will soon be increased to 14.0.1. You are using 12.0.1. Please consider upgrading.\n",
      "  warnings.warn(\n",
      "/Users/ry/anaconda3/envs/tf-gpu/lib/python3.9/site-packages/dask/dataframe/_pyarrow_compat.py:17: FutureWarning: Minimal version of pyarrow will soon be increased to 14.0.1. You are using 12.0.1. Please consider upgrading.\n",
      "  warnings.warn(\n",
      "/Users/ry/anaconda3/envs/tf-gpu/lib/python3.9/site-packages/dask/dataframe/_pyarrow_compat.py:17: FutureWarning: Minimal version of pyarrow will soon be increased to 14.0.1. You are using 12.0.1. Please consider upgrading.\n",
      "  warnings.warn(\n",
      "/Users/ry/anaconda3/envs/tf-gpu/lib/python3.9/site-packages/dask/dataframe/_pyarrow_compat.py:17: FutureWarning: Minimal version of pyarrow will soon be increased to 14.0.1. You are using 12.0.1. Please consider upgrading.\n",
      "  warnings.warn(\n",
      "/Users/ry/anaconda3/envs/tf-gpu/lib/python3.9/site-packages/dask/dataframe/_pyarrow_compat.py:17: FutureWarning: Minimal version of pyarrow will soon be increased to 14.0.1. You are using 12.0.1. Please consider upgrading.\n",
      "  warnings.warn(\n",
      "Feature Extraction: 100%|███████████████████████| 35/35 [01:12<00:00,  2.07s/it]\n",
      "Feature Extraction:   0%|                                | 0/35 [00:00<?, ?it/s]/Users/ry/anaconda3/envs/tf-gpu/lib/python3.9/site-packages/dask/dataframe/_pyarrow_compat.py:17: FutureWarning: Minimal version of pyarrow will soon be increased to 14.0.1. You are using 12.0.1. Please consider upgrading.\n",
      "  warnings.warn(\n",
      "/Users/ry/anaconda3/envs/tf-gpu/lib/python3.9/site-packages/dask/dataframe/_pyarrow_compat.py:17: FutureWarning: Minimal version of pyarrow will soon be increased to 14.0.1. You are using 12.0.1. Please consider upgrading.\n",
      "  warnings.warn(\n",
      "/Users/ry/anaconda3/envs/tf-gpu/lib/python3.9/site-packages/dask/dataframe/_pyarrow_compat.py:17: FutureWarning: Minimal version of pyarrow will soon be increased to 14.0.1. You are using 12.0.1. Please consider upgrading.\n",
      "  warnings.warn(\n",
      "/Users/ry/anaconda3/envs/tf-gpu/lib/python3.9/site-packages/dask/dataframe/_pyarrow_compat.py:17: FutureWarning: Minimal version of pyarrow will soon be increased to 14.0.1. You are using 12.0.1. Please consider upgrading.\n",
      "  warnings.warn(\n",
      "/Users/ry/anaconda3/envs/tf-gpu/lib/python3.9/site-packages/dask/dataframe/_pyarrow_compat.py:17: FutureWarning: Minimal version of pyarrow will soon be increased to 14.0.1. You are using 12.0.1. Please consider upgrading.\n",
      "  warnings.warn(\n",
      "/Users/ry/anaconda3/envs/tf-gpu/lib/python3.9/site-packages/dask/dataframe/_pyarrow_compat.py:17: FutureWarning: Minimal version of pyarrow will soon be increased to 14.0.1. You are using 12.0.1. Please consider upgrading.\n",
      "  warnings.warn(\n",
      "/Users/ry/anaconda3/envs/tf-gpu/lib/python3.9/site-packages/dask/dataframe/_pyarrow_compat.py:17: FutureWarning: Minimal version of pyarrow will soon be increased to 14.0.1. You are using 12.0.1. Please consider upgrading.\n",
      "  warnings.warn(\n"
     ]
    },
    {
     "name": "stderr",
     "output_type": "stream",
     "text": [
      "Feature Extraction: 100%|███████████████████████| 35/35 [01:13<00:00,  2.10s/it]\n",
      "Feature Extraction:   0%|                                | 0/35 [00:00<?, ?it/s]/Users/ry/anaconda3/envs/tf-gpu/lib/python3.9/site-packages/dask/dataframe/_pyarrow_compat.py:17: FutureWarning: Minimal version of pyarrow will soon be increased to 14.0.1. You are using 12.0.1. Please consider upgrading.\n",
      "  warnings.warn(\n",
      "/Users/ry/anaconda3/envs/tf-gpu/lib/python3.9/site-packages/dask/dataframe/_pyarrow_compat.py:17: FutureWarning: Minimal version of pyarrow will soon be increased to 14.0.1. You are using 12.0.1. Please consider upgrading.\n",
      "  warnings.warn(\n",
      "/Users/ry/anaconda3/envs/tf-gpu/lib/python3.9/site-packages/dask/dataframe/_pyarrow_compat.py:17: FutureWarning: Minimal version of pyarrow will soon be increased to 14.0.1. You are using 12.0.1. Please consider upgrading.\n",
      "  warnings.warn(\n",
      "/Users/ry/anaconda3/envs/tf-gpu/lib/python3.9/site-packages/dask/dataframe/_pyarrow_compat.py:17: FutureWarning: Minimal version of pyarrow will soon be increased to 14.0.1. You are using 12.0.1. Please consider upgrading.\n",
      "  warnings.warn(\n",
      "/Users/ry/anaconda3/envs/tf-gpu/lib/python3.9/site-packages/dask/dataframe/_pyarrow_compat.py:17: FutureWarning: Minimal version of pyarrow will soon be increased to 14.0.1. You are using 12.0.1. Please consider upgrading.\n",
      "  warnings.warn(\n",
      "/Users/ry/anaconda3/envs/tf-gpu/lib/python3.9/site-packages/dask/dataframe/_pyarrow_compat.py:17: FutureWarning: Minimal version of pyarrow will soon be increased to 14.0.1. You are using 12.0.1. Please consider upgrading.\n",
      "  warnings.warn(\n",
      "/Users/ry/anaconda3/envs/tf-gpu/lib/python3.9/site-packages/dask/dataframe/_pyarrow_compat.py:17: FutureWarning: Minimal version of pyarrow will soon be increased to 14.0.1. You are using 12.0.1. Please consider upgrading.\n",
      "  warnings.warn(\n",
      "Feature Extraction: 100%|███████████████████████| 35/35 [01:12<00:00,  2.07s/it]\n",
      "Feature Extraction:   0%|                                | 0/35 [00:00<?, ?it/s]/Users/ry/anaconda3/envs/tf-gpu/lib/python3.9/site-packages/dask/dataframe/_pyarrow_compat.py:17: FutureWarning: Minimal version of pyarrow will soon be increased to 14.0.1. You are using 12.0.1. Please consider upgrading.\n",
      "  warnings.warn(\n",
      "/Users/ry/anaconda3/envs/tf-gpu/lib/python3.9/site-packages/dask/dataframe/_pyarrow_compat.py:17: FutureWarning: Minimal version of pyarrow will soon be increased to 14.0.1. You are using 12.0.1. Please consider upgrading.\n",
      "  warnings.warn(\n",
      "/Users/ry/anaconda3/envs/tf-gpu/lib/python3.9/site-packages/dask/dataframe/_pyarrow_compat.py:17: FutureWarning: Minimal version of pyarrow will soon be increased to 14.0.1. You are using 12.0.1. Please consider upgrading.\n",
      "  warnings.warn(\n",
      "/Users/ry/anaconda3/envs/tf-gpu/lib/python3.9/site-packages/dask/dataframe/_pyarrow_compat.py:17: FutureWarning: Minimal version of pyarrow will soon be increased to 14.0.1. You are using 12.0.1. Please consider upgrading.\n",
      "  warnings.warn(\n",
      "/Users/ry/anaconda3/envs/tf-gpu/lib/python3.9/site-packages/dask/dataframe/_pyarrow_compat.py:17: FutureWarning: Minimal version of pyarrow will soon be increased to 14.0.1. You are using 12.0.1. Please consider upgrading.\n",
      "  warnings.warn(\n",
      "/Users/ry/anaconda3/envs/tf-gpu/lib/python3.9/site-packages/dask/dataframe/_pyarrow_compat.py:17: FutureWarning: Minimal version of pyarrow will soon be increased to 14.0.1. You are using 12.0.1. Please consider upgrading.\n",
      "  warnings.warn(\n",
      "/Users/ry/anaconda3/envs/tf-gpu/lib/python3.9/site-packages/dask/dataframe/_pyarrow_compat.py:17: FutureWarning: Minimal version of pyarrow will soon be increased to 14.0.1. You are using 12.0.1. Please consider upgrading.\n",
      "  warnings.warn(\n",
      "Feature Extraction: 100%|███████████████████████| 35/35 [01:14<00:00,  2.14s/it]\n",
      "Feature Extraction:   0%|                                | 0/35 [00:00<?, ?it/s]/Users/ry/anaconda3/envs/tf-gpu/lib/python3.9/site-packages/dask/dataframe/_pyarrow_compat.py:17: FutureWarning: Minimal version of pyarrow will soon be increased to 14.0.1. You are using 12.0.1. Please consider upgrading.\n",
      "  warnings.warn(\n",
      "/Users/ry/anaconda3/envs/tf-gpu/lib/python3.9/site-packages/dask/dataframe/_pyarrow_compat.py:17: FutureWarning: Minimal version of pyarrow will soon be increased to 14.0.1. You are using 12.0.1. Please consider upgrading.\n",
      "  warnings.warn(\n",
      "/Users/ry/anaconda3/envs/tf-gpu/lib/python3.9/site-packages/dask/dataframe/_pyarrow_compat.py:17: FutureWarning: Minimal version of pyarrow will soon be increased to 14.0.1. You are using 12.0.1. Please consider upgrading.\n",
      "  warnings.warn(\n",
      "/Users/ry/anaconda3/envs/tf-gpu/lib/python3.9/site-packages/dask/dataframe/_pyarrow_compat.py:17: FutureWarning: Minimal version of pyarrow will soon be increased to 14.0.1. You are using 12.0.1. Please consider upgrading.\n",
      "  warnings.warn(\n",
      "/Users/ry/anaconda3/envs/tf-gpu/lib/python3.9/site-packages/dask/dataframe/_pyarrow_compat.py:17: FutureWarning: Minimal version of pyarrow will soon be increased to 14.0.1. You are using 12.0.1. Please consider upgrading.\n",
      "  warnings.warn(\n",
      "/Users/ry/anaconda3/envs/tf-gpu/lib/python3.9/site-packages/dask/dataframe/_pyarrow_compat.py:17: FutureWarning: Minimal version of pyarrow will soon be increased to 14.0.1. You are using 12.0.1. Please consider upgrading.\n",
      "  warnings.warn(\n",
      "/Users/ry/anaconda3/envs/tf-gpu/lib/python3.9/site-packages/dask/dataframe/_pyarrow_compat.py:17: FutureWarning: Minimal version of pyarrow will soon be increased to 14.0.1. You are using 12.0.1. Please consider upgrading.\n",
      "  warnings.warn(\n",
      "Feature Extraction: 100%|███████████████████████| 35/35 [01:16<00:00,  2.18s/it]\n",
      "Feature Extraction:   0%|                                | 0/35 [00:00<?, ?it/s]/Users/ry/anaconda3/envs/tf-gpu/lib/python3.9/site-packages/dask/dataframe/_pyarrow_compat.py:17: FutureWarning: Minimal version of pyarrow will soon be increased to 14.0.1. You are using 12.0.1. Please consider upgrading.\n",
      "  warnings.warn(\n",
      "/Users/ry/anaconda3/envs/tf-gpu/lib/python3.9/site-packages/dask/dataframe/_pyarrow_compat.py:17: FutureWarning: Minimal version of pyarrow will soon be increased to 14.0.1. You are using 12.0.1. Please consider upgrading.\n",
      "  warnings.warn(\n",
      "/Users/ry/anaconda3/envs/tf-gpu/lib/python3.9/site-packages/dask/dataframe/_pyarrow_compat.py:17: FutureWarning: Minimal version of pyarrow will soon be increased to 14.0.1. You are using 12.0.1. Please consider upgrading.\n",
      "  warnings.warn(\n",
      "/Users/ry/anaconda3/envs/tf-gpu/lib/python3.9/site-packages/dask/dataframe/_pyarrow_compat.py:17: FutureWarning: Minimal version of pyarrow will soon be increased to 14.0.1. You are using 12.0.1. Please consider upgrading.\n",
      "  warnings.warn(\n",
      "/Users/ry/anaconda3/envs/tf-gpu/lib/python3.9/site-packages/dask/dataframe/_pyarrow_compat.py:17: FutureWarning: Minimal version of pyarrow will soon be increased to 14.0.1. You are using 12.0.1. Please consider upgrading.\n",
      "  warnings.warn(\n",
      "/Users/ry/anaconda3/envs/tf-gpu/lib/python3.9/site-packages/dask/dataframe/_pyarrow_compat.py:17: FutureWarning: Minimal version of pyarrow will soon be increased to 14.0.1. You are using 12.0.1. Please consider upgrading.\n",
      "  warnings.warn(\n",
      "/Users/ry/anaconda3/envs/tf-gpu/lib/python3.9/site-packages/dask/dataframe/_pyarrow_compat.py:17: FutureWarning: Minimal version of pyarrow will soon be increased to 14.0.1. You are using 12.0.1. Please consider upgrading.\n",
      "  warnings.warn(\n",
      "Feature Extraction: 100%|███████████████████████| 35/35 [00:58<00:00,  1.68s/it]\n"
     ]
    }
   ],
   "source": [
    "import pandas as pd\n",
    "from tsfresh import extract_features\n",
    "from tsfresh.feature_extraction import ComprehensiveFCParameters\n",
    "\n",
    "# Load your dataset\n",
    "fazeli_mitbih_train_df = pd.read_csv('../data/mitbih_train.csv', header=None)\n",
    "\n",
    "# Assign a unique ID to each row and separate the target variable\n",
    "fazeli_mitbih_train_df['id'] = range(len(fazeli_mitbih_train_df))\n",
    "target_series = fazeli_mitbih_train_df[187]\n",
    "\n",
    "# Keep only features and the unique ID for feature extraction\n",
    "fazeli_mitbih_train_df_features_only = fazeli_mitbih_train_df.drop(columns=[187])\n",
    "\n",
    "# Convert to long format, preserving the 'id' for direct mapping\n",
    "long_df = fazeli_mitbih_train_df_features_only.melt(id_vars='id', var_name='time', value_name='amplitude')\n",
    "\n",
    "# Define feature extraction settings\n",
    "extraction_settings = ComprehensiveFCParameters()\n",
    "\n",
    "# Incremental extraction setup\n",
    "unique_ids = long_df['id'].unique()\n",
    "subset_size = 10000  # Adjust based on your dataset size and memory constraints\n",
    "extracted_features_list = []\n",
    "\n",
    "for i in range(0, len(unique_ids), subset_size):\n",
    "    subset_ids = unique_ids[i:i+subset_size]\n",
    "    subset_df = long_df[long_df['id'].isin(subset_ids)]\n",
    "    \n",
    "    # Extract features for this subset\n",
    "    subset_features = extract_features(subset_df, column_id='id', column_sort='time',\n",
    "                                       default_fc_parameters=extraction_settings, n_jobs=7)\n",
    "    extracted_features_list.append(subset_features)\n",
    "\n"
   ]
  },
  {
   "cell_type": "code",
   "execution_count": 5,
   "id": "5ceb8dc3-bb1a-4fc1-8789-1b8cc965c9b9",
   "metadata": {},
   "outputs": [
    {
     "name": "stdout",
     "output_type": "stream",
     "text": [
      "   label\n",
      "0    0.0\n",
      "1    0.0\n",
      "2    0.0\n",
      "3    0.0\n",
      "4    0.0\n"
     ]
    }
   ],
   "source": [
    "\n",
    "# Combine extracted features from all subsets\n",
    "extracted_features = pd.concat(extracted_features_list)\n",
    "\n",
    "# Re-associate the target labels using the 'id' column\n",
    "# This step correctly maps the original labels to the extracted features based on 'id'\n",
    "extracted_features['label'] = extracted_features.index.map(lambda idx: target_series.loc[idx])\n",
    "\n",
    "# Verify the re-association of labels\n",
    "print(extracted_features[['label']].head())\n"
   ]
  },
  {
   "cell_type": "code",
   "execution_count": 6,
   "id": "58082168-ea63-41ed-92ca-4a2a80362104",
   "metadata": {},
   "outputs": [
    {
     "data": {
      "text/plain": [
       "label\n",
       "0.0    72471\n",
       "4.0     6431\n",
       "2.0     5788\n",
       "1.0     2223\n",
       "3.0      641\n",
       "Name: count, dtype: int64"
      ]
     },
     "execution_count": 6,
     "metadata": {},
     "output_type": "execute_result"
    }
   ],
   "source": [
    "column_187_extracted = extracted_features['label']\n",
    "column_187_extracted.value_counts()"
   ]
  },
  {
   "cell_type": "markdown",
   "id": "b7c62a9e-4a10-42fe-ab0e-f70e12238336",
   "metadata": {},
   "source": [
    "## Set X and y from extracted features, Perform train_test_split"
   ]
  },
  {
   "cell_type": "code",
   "execution_count": 7,
   "id": "08955da9-01b4-4570-98af-fd2227d80f70",
   "metadata": {},
   "outputs": [],
   "source": [
    "# Setting X and y from my extracted features\n",
    "X = extracted_features.drop('label', axis=1)\n",
    "y = extracted_features['label']\n",
    "\n",
    "# Split data into training and test sets\n",
    "X_train, X_test, y_train, y_test = train_test_split(X, y, test_size=0.2, random_state=42)\n"
   ]
  },
  {
   "cell_type": "markdown",
   "id": "3376e4c2-e6a3-41fc-8edd-3580bf98081c",
   "metadata": {},
   "source": [
    "# WIP Neural Network"
   ]
  },
  {
   "cell_type": "code",
   "execution_count": 8,
   "id": "43d4343d-3a69-4660-877d-ea8c54f72c80",
   "metadata": {},
   "outputs": [
    {
     "name": "stderr",
     "output_type": "stream",
     "text": [
      "2024-02-26 19:32:25.577431: I metal_plugin/src/device/metal_device.cc:1154] Metal device set to: Apple M2\n",
      "2024-02-26 19:32:25.577449: I metal_plugin/src/device/metal_device.cc:296] systemMemory: 8.00 GB\n",
      "2024-02-26 19:32:25.577455: I metal_plugin/src/device/metal_device.cc:313] maxCacheSize: 2.67 GB\n",
      "2024-02-26 19:32:25.577508: I tensorflow/core/common_runtime/pluggable_device/pluggable_device_factory.cc:303] Could not identify NUMA node of platform GPU ID 0, defaulting to 0. Your kernel may not have been built with NUMA support.\n",
      "2024-02-26 19:32:25.577529: I tensorflow/core/common_runtime/pluggable_device/pluggable_device_factory.cc:269] Created TensorFlow device (/job:localhost/replica:0/task:0/device:GPU:0 with 0 MB memory) -> physical PluggableDevice (device: 0, name: METAL, pci bus id: <undefined>)\n"
     ]
    },
    {
     "name": "stdout",
     "output_type": "stream",
     "text": [
      "Model: \"sequential\"\n",
      "_________________________________________________________________\n",
      " Layer (type)                Output Shape              Param #   \n",
      "=================================================================\n",
      " conv1d (Conv1D)             (None, 126, 64)           256       \n",
      "                                                                 \n",
      " global_average_pooling1d (  (None, 64)                0         \n",
      " GlobalAveragePooling1D)                                         \n",
      "                                                                 \n",
      " dense (Dense)               (None, 100)               6500      \n",
      "                                                                 \n",
      " dense_1 (Dense)             (None, 1)                 101       \n",
      "                                                                 \n",
      "=================================================================\n",
      "Total params: 6857 (26.79 KB)\n",
      "Trainable params: 6857 (26.79 KB)\n",
      "Non-trainable params: 0 (0.00 Byte)\n",
      "_________________________________________________________________\n"
     ]
    }
   ],
   "source": [
    "from tensorflow.keras.models import Sequential\n",
    "from tensorflow.keras.layers import Conv1D, GlobalAveragePooling1D, Dense\n",
    "\n",
    "# Assuming your input shape is (timesteps, features)\n",
    "input_shape = (128, 1)  # Example input shape (128 timesteps, 1 feature)\n",
    "\n",
    "model = Sequential([\n",
    "    Conv1D(filters=64, kernel_size=3, activation='relu', input_shape=input_shape),\n",
    "    GlobalAveragePooling1D(),\n",
    "    Dense(100, activation='relu'),\n",
    "    Dense(1, activation='sigmoid')\n",
    "])\n",
    "\n",
    "model.compile(optimizer='adam', loss='binary_crossentropy', metrics=['accuracy'])\n",
    "model.summary()\n"
   ]
  },
  {
   "cell_type": "code",
   "execution_count": 11,
   "id": "6a67ea6c",
   "metadata": {},
   "outputs": [
    {
     "name": "stdout",
     "output_type": "stream",
     "text": [
      "Model: \"sequential_1\"\n",
      "_________________________________________________________________\n",
      " Layer (type)                Output Shape              Param #   \n",
      "=================================================================\n",
      " conv1d_1 (Conv1D)           (None, 185, 64)           256       \n",
      "                                                                 \n",
      " global_average_pooling1d_1  (None, 64)                0         \n",
      "  (GlobalAveragePooling1D)                                       \n",
      "                                                                 \n",
      " dense_2 (Dense)             (None, 100)               6500      \n",
      "                                                                 \n",
      " dense_3 (Dense)             (None, 5)                 505       \n",
      "                                                                 \n",
      "=================================================================\n",
      "Total params: 7261 (28.36 KB)\n",
      "Trainable params: 7261 (28.36 KB)\n",
      "Non-trainable params: 0 (0.00 Byte)\n",
      "_________________________________________________________________\n"
     ]
    }
   ],
   "source": [
    "from tensorflow.keras.utils import to_categorical\n",
    "from tensorflow.keras.models import Sequential\n",
    "from tensorflow.keras.layers import Conv1D, GlobalAveragePooling1D, Dense\n",
    "\n",
    "# Assuming your input shape is (timesteps, features)\n",
    "input_shape = (187, 1)  # Adjusted input shape to match your dataset\n",
    "\n",
    "# Adjusting the model for 5-class classification\n",
    "model = Sequential([\n",
    "    Conv1D(filters=64, kernel_size=3, activation='relu', input_shape=input_shape),\n",
    "    GlobalAveragePooling1D(),\n",
    "    Dense(100, activation='relu'),\n",
    "    Dense(5, activation='softmax')  # Adjusted for 5 classes\n",
    "])\n",
    "\n",
    "model.compile(optimizer='adam', loss='categorical_crossentropy', metrics=['accuracy'])\n",
    "model.summary()\n"
   ]
  },
  {
   "cell_type": "code",
   "execution_count": null,
   "id": "0b0ad0ea",
   "metadata": {},
   "outputs": [],
   "source": [
    "import numpy as np\n",
    "from tensorflow.keras.utils import to_categorical\n",
    "from sklearn.model_selection import train_test_split\n",
    "\n",
    "# Assuming fazeli_mitbih_train_df is your DataFrame and the last column is the label\n",
    "X = fazeli_mitbih_train_df.iloc[:, :-1].values\n",
    "y = fazeli_mitbih_train_df.iloc[:, -1].values\n",
    "\n",
    "# Reshape X to fit the Conv1D input requirements and convert y to categorical\n",
    "X_reshaped = X.reshape((X.shape[0], X.shape[1], 1))\n",
    "y_categorical = to_categorical(y)\n",
    "\n",
    "# Split the data\n",
    "X_train, X_test, y_train, y_test = train_test_split(X_reshaped, y_categorical, test_size=0.2, random_state=42)\n",
    "\n",
    "# Train the model\n",
    "model.fit(X_train, y_train, epochs=10, validation_data=(X_test, y_test))\n"
   ]
  },
  {
   "cell_type": "code",
   "execution_count": 4,
   "id": "62981108",
   "metadata": {},
   "outputs": [
    {
     "name": "stdout",
     "output_type": "stream",
     "text": [
      "Model: \"sequential\"\n",
      "_________________________________________________________________\n",
      " Layer (type)                Output Shape              Param #   \n",
      "=================================================================\n",
      " conv1d (Conv1D)             (None, 185, 32)           128       \n",
      "                                                                 \n",
      " global_average_pooling1d (  (None, 32)                0         \n",
      " GlobalAveragePooling1D)                                         \n",
      "                                                                 \n",
      " dense (Dense)               (None, 50)                1650      \n",
      "                                                                 \n",
      " dense_1 (Dense)             (None, 5)                 255       \n",
      "                                                                 \n",
      "=================================================================\n",
      "Total params: 2033 (7.94 KB)\n",
      "Trainable params: 2033 (7.94 KB)\n",
      "Non-trainable params: 0 (0.00 Byte)\n",
      "_________________________________________________________________\n"
     ]
    },
    {
     "name": "stderr",
     "output_type": "stream",
     "text": [
      "2024-02-27 11:37:17.145355: I metal_plugin/src/device/metal_device.cc:1154] Metal device set to: Apple M2\n",
      "2024-02-27 11:37:17.145375: I metal_plugin/src/device/metal_device.cc:296] systemMemory: 8.00 GB\n",
      "2024-02-27 11:37:17.145379: I metal_plugin/src/device/metal_device.cc:313] maxCacheSize: 2.67 GB\n",
      "2024-02-27 11:37:17.145785: I tensorflow/core/common_runtime/pluggable_device/pluggable_device_factory.cc:303] Could not identify NUMA node of platform GPU ID 0, defaulting to 0. Your kernel may not have been built with NUMA support.\n",
      "2024-02-27 11:37:17.145959: I tensorflow/core/common_runtime/pluggable_device/pluggable_device_factory.cc:269] Created TensorFlow device (/job:localhost/replica:0/task:0/device:GPU:0 with 0 MB memory) -> physical PluggableDevice (device: 0, name: METAL, pci bus id: <undefined>)\n"
     ]
    }
   ],
   "source": [
    "from tensorflow.keras.utils import to_categorical\n",
    "from tensorflow.keras.models import Sequential\n",
    "from tensorflow.keras.layers import Conv1D, GlobalAveragePooling1D, Dense\n",
    "\n",
    "# Assuming your input shape is (timesteps, features)\n",
    "input_shape = (187, 1)  # Adjusted input shape to match your dataset\n",
    "\n",
    "# Simplified model for 5-class classification\n",
    "model = Sequential([\n",
    "    Conv1D(filters=32, kernel_size=3, activation='relu', input_shape=input_shape),  # Reduced filters\n",
    "    GlobalAveragePooling1D(),\n",
    "    Dense(50, activation='relu'),  # Reduced neurons\n",
    "    Dense(5, activation='softmax')  # For 5 classes\n",
    "])\n",
    "\n",
    "model.compile(optimizer='adam', loss='categorical_crossentropy', metrics=['accuracy'])\n",
    "\n",
    "# Display model summary to confirm changes\n",
    "model.summary()\n"
   ]
  },
  {
   "cell_type": "code",
   "execution_count": 5,
   "id": "5ecbf2d6",
   "metadata": {},
   "outputs": [
    {
     "name": "stdout",
     "output_type": "stream",
     "text": [
      "Epoch 1/10\n",
      "   1/2189 [..............................] - ETA: 11:33 - loss: 1.6110 - accuracy: 0.0938"
     ]
    },
    {
     "name": "stderr",
     "output_type": "stream",
     "text": [
      "2024-02-27 11:37:22.986241: I tensorflow/core/grappler/optimizers/custom_graph_optimizer_registry.cc:114] Plugin optimizer for device_type GPU is enabled.\n"
     ]
    },
    {
     "name": "stdout",
     "output_type": "stream",
     "text": [
      "2189/2189 [==============================] - ETA: 0s - loss: 0.6501 - accuracy: 0.8237"
     ]
    },
    {
     "name": "stderr",
     "output_type": "stream",
     "text": [
      "2024-02-27 11:37:39.592870: I tensorflow/core/grappler/optimizers/custom_graph_optimizer_registry.cc:114] Plugin optimizer for device_type GPU is enabled.\n"
     ]
    },
    {
     "name": "stdout",
     "output_type": "stream",
     "text": [
      "2189/2189 [==============================] - 20s 9ms/step - loss: 0.6501 - accuracy: 0.8237 - val_loss: 0.6064 - val_accuracy: 0.8321\n",
      "Epoch 2/10\n",
      "2189/2189 [==============================] - 19s 9ms/step - loss: 0.6216 - accuracy: 0.8242 - val_loss: 0.6074 - val_accuracy: 0.8284\n",
      "Epoch 3/10\n",
      "2189/2189 [==============================] - 19s 8ms/step - loss: 0.6200 - accuracy: 0.8238 - val_loss: 0.6130 - val_accuracy: 0.8074\n",
      "Epoch 4/10\n",
      "2189/2189 [==============================] - 19s 9ms/step - loss: 0.6157 - accuracy: 0.8243 - val_loss: 0.6008 - val_accuracy: 0.8272\n",
      "Epoch 5/10\n",
      "2189/2189 [==============================] - 19s 9ms/step - loss: 0.6104 - accuracy: 0.8236 - val_loss: 0.5916 - val_accuracy: 0.8326\n",
      "Epoch 6/10\n",
      "2189/2189 [==============================] - 18s 8ms/step - loss: 0.6044 - accuracy: 0.8234 - val_loss: 0.5824 - val_accuracy: 0.8324\n",
      "Epoch 7/10\n",
      "2189/2189 [==============================] - 19s 8ms/step - loss: 0.5974 - accuracy: 0.8229 - val_loss: 0.5843 - val_accuracy: 0.8322\n",
      "Epoch 8/10\n",
      "2189/2189 [==============================] - 19s 8ms/step - loss: 0.5949 - accuracy: 0.8227 - val_loss: 0.6121 - val_accuracy: 0.8320\n",
      "Epoch 9/10\n",
      "2189/2189 [==============================] - 18s 8ms/step - loss: 0.5891 - accuracy: 0.8227 - val_loss: 0.5598 - val_accuracy: 0.8328\n",
      "Epoch 10/10\n",
      "2189/2189 [==============================] - 18s 8ms/step - loss: 0.5901 - accuracy: 0.8223 - val_loss: 0.5797 - val_accuracy: 0.8343\n"
     ]
    },
    {
     "data": {
      "text/plain": [
       "<keras.src.callbacks.History at 0x165c75be0>"
      ]
     },
     "execution_count": 5,
     "metadata": {},
     "output_type": "execute_result"
    }
   ],
   "source": [
    "import numpy as np\n",
    "from tensorflow.keras.utils import to_categorical\n",
    "from sklearn.model_selection import train_test_split\n",
    "\n",
    "# Assuming fazeli_mitbih_train_df is your DataFrame and the last column is the label\n",
    "X = fazeli_mitbih_train_df.iloc[:, :-1].values\n",
    "y = fazeli_mitbih_train_df.iloc[:, -1].values\n",
    "\n",
    "# Reshape X to fit the Conv1D input requirements and convert y to categorical\n",
    "X_reshaped = X.reshape((X.shape[0], X.shape[1], 1))\n",
    "y_categorical = to_categorical(y)\n",
    "\n",
    "# Split the data\n",
    "X_train, X_test, y_train, y_test = train_test_split(X_reshaped, y_categorical, test_size=0.2, random_state=42)\n",
    "\n",
    "# Specify a smaller batch size\n",
    "batch_size = 32\n",
    "\n",
    "# Train the model with the specified batch size and include validation data for monitoring\n",
    "model.fit(X_train, y_train, batch_size=batch_size, epochs=10, validation_data=(X_test, y_test))\n"
   ]
  },
  {
   "cell_type": "code",
   "execution_count": 6,
   "id": "2d7c5953",
   "metadata": {},
   "outputs": [
    {
     "name": "stdout",
     "output_type": "stream",
     "text": [
      "548/548 - 3s - loss: 0.5797 - accuracy: 0.8343 - 3s/epoch - 5ms/step\n",
      "Test Accuracy: 0.8342756032943726\n"
     ]
    }
   ],
   "source": [
    "# Evaluate the model on the test data\n",
    "test_loss, test_accuracy = model.evaluate(X_test, y_test, verbose=2)\n",
    "print(f\"Test Accuracy: {test_accuracy}\")\n",
    "\n"
   ]
  },
  {
   "cell_type": "code",
   "execution_count": 7,
   "id": "b8f5be5b",
   "metadata": {},
   "outputs": [
    {
     "name": "stdout",
     "output_type": "stream",
     "text": [
      "137/548 [======>.......................] - ETA: 0s"
     ]
    },
    {
     "name": "stderr",
     "output_type": "stream",
     "text": [
      "2024-02-27 11:41:18.731913: I tensorflow/core/grappler/optimizers/custom_graph_optimizer_registry.cc:114] Plugin optimizer for device_type GPU is enabled.\n"
     ]
    },
    {
     "name": "stdout",
     "output_type": "stream",
     "text": [
      "548/548 [==============================] - 1s 1ms/step\n"
     ]
    },
    {
     "data": {
      "image/png": "[encoded data removed]",
      "text/plain": [
       "<Figure size 1000x700 with 2 Axes>"
      ]
     },
     "metadata": {},
     "output_type": "display_data"
    }
   ],
   "source": [
    "import numpy as np\n",
    "import matplotlib.pyplot as plt\n",
    "from sklearn.metrics import confusion_matrix\n",
    "import seaborn as sns\n",
    "\n",
    "# Predict the classes with the model\n",
    "predictions = model.predict(X_test)\n",
    "\n",
    "# Convert predictions from one-hot encoded vectors to class labels\n",
    "predicted_labels = np.argmax(predictions, axis=1)\n",
    "\n",
    "# Convert true labels from one-hot encoded vectors to class labels\n",
    "true_labels = np.argmax(y_test, axis=1)\n",
    "\n",
    "# Now you can compute the confusion matrix and plot it as previously described\n",
    "cm = confusion_matrix(true_labels, predicted_labels)\n",
    "\n",
    "# Plot the confusion matrix\n",
    "plt.figure(figsize=(10, 7))\n",
    "sns.heatmap(cm, annot=True, fmt=\"d\", cmap=\"Blues\", xticklabels=[\"Class 0\", \"Class 1\", \"Class 2\", \"Class 3\", \"Class 4\"], yticklabels=[\"Class 0\", \"Class 1\", \"Class 2\", \"Class 3\", \"Class 4\"])\n",
    "plt.title('Confusion Matrix')\n",
    "plt.xlabel('Predicted Labels')\n",
    "plt.ylabel('True Labels')\n",
    "plt.show()\n",
    "\n"
   ]
  },
  {
   "cell_type": "code",
   "execution_count": null,
   "id": "a8249bc9",
   "metadata": {},
   "outputs": [],
   "source": []
  }
 ],
 "metadata": {
  "kernelspec": {
   "display_name": "Python [conda env:tf-gpu] *",
   "language": "python",
   "name": "conda-env-tf-gpu-py"
  },
  "language_info": {
   "codemirror_mode": {
    "name": "ipython",
    "version": 3
   },
   "file_extension": ".py",
   "mimetype": "text/x-python",
   "name": "python",
   "nbconvert_exporter": "python",
   "pygments_lexer": "ipython3",
   "version": "3.9.18"
  }
 },
 "nbformat": 4,
 "nbformat_minor": 5
}
