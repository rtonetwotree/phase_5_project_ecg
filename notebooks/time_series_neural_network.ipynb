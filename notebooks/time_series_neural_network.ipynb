{
  "cells": [
    {
      "cell_type": "markdown",
      "id": "8a00172b-9894-4971-a537-441334e1f38d",
      "metadata": {
        "id": "8a00172b-9894-4971-a537-441334e1f38d"
      },
      "source": [
        "## First Neural Network"
      ]
    },
    {
      "cell_type": "code",
      "source": [
        "!pip install tsfresh\n"
      ],
      "metadata": {
        "colab": {
          "base_uri": "https://localhost:8080/"
        },
        "id": "RWrZla58tcRp",
        "outputId": "58a65e4d-86b8-49ac-afbb-21697636b664"
      },
      "id": "RWrZla58tcRp",
      "execution_count": 3,
      "outputs": [
        {
          "output_type": "stream",
          "name": "stdout",
          "text": [
            "Collecting tsfresh\n",
            "  Downloading tsfresh-0.20.2-py2.py3-none-any.whl (95 kB)\n",
            "\u001b[?25l     \u001b[90m━━━━━━━━━━━━━━━━━━━━━━━━━━━━━━━━━━━━━━━━\u001b[0m \u001b[32m0.0/95.8 kB\u001b[0m \u001b[31m?\u001b[0m eta \u001b[36m-:--:--\u001b[0m\r\u001b[2K     \u001b[90m━━━━━━━━━━━━━━━━━━━━━━━━━━━━━━━━━━━━━━━━\u001b[0m \u001b[32m95.8/95.8 kB\u001b[0m \u001b[31m3.6 MB/s\u001b[0m eta \u001b[36m0:00:00\u001b[0m\n",
            "\u001b[?25hRequirement already satisfied: requests>=2.9.1 in /usr/local/lib/python3.10/dist-packages (from tsfresh) (2.31.0)\n",
            "Requirement already satisfied: numpy>=1.15.1 in /usr/local/lib/python3.10/dist-packages (from tsfresh) (1.25.2)\n",
            "Requirement already satisfied: pandas>=0.25.0 in /usr/local/lib/python3.10/dist-packages (from tsfresh) (1.5.3)\n",
            "Requirement already satisfied: scipy>=1.2.0 in /usr/local/lib/python3.10/dist-packages (from tsfresh) (1.11.4)\n",
            "Requirement already satisfied: statsmodels>=0.13 in /usr/local/lib/python3.10/dist-packages (from tsfresh) (0.14.1)\n",
            "Requirement already satisfied: patsy>=0.4.1 in /usr/local/lib/python3.10/dist-packages (from tsfresh) (0.5.6)\n",
            "Requirement already satisfied: scikit-learn>=0.22.0 in /usr/local/lib/python3.10/dist-packages (from tsfresh) (1.2.2)\n",
            "Requirement already satisfied: tqdm>=4.10.0 in /usr/local/lib/python3.10/dist-packages (from tsfresh) (4.66.2)\n",
            "Collecting stumpy>=1.7.2 (from tsfresh)\n",
            "  Downloading stumpy-1.12.0-py3-none-any.whl (169 kB)\n",
            "\u001b[2K     \u001b[90m━━━━━━━━━━━━━━━━━━━━━━━━━━━━━━━━━━━━━━━━\u001b[0m \u001b[32m169.1/169.1 kB\u001b[0m \u001b[31m9.4 MB/s\u001b[0m eta \u001b[36m0:00:00\u001b[0m\n",
            "\u001b[?25hRequirement already satisfied: cloudpickle in /usr/local/lib/python3.10/dist-packages (from tsfresh) (2.2.1)\n",
            "Requirement already satisfied: python-dateutil>=2.8.1 in /usr/local/lib/python3.10/dist-packages (from pandas>=0.25.0->tsfresh) (2.8.2)\n",
            "Requirement already satisfied: pytz>=2020.1 in /usr/local/lib/python3.10/dist-packages (from pandas>=0.25.0->tsfresh) (2023.4)\n",
            "Requirement already satisfied: six in /usr/local/lib/python3.10/dist-packages (from patsy>=0.4.1->tsfresh) (1.16.0)\n",
            "Requirement already satisfied: charset-normalizer<4,>=2 in /usr/local/lib/python3.10/dist-packages (from requests>=2.9.1->tsfresh) (3.3.2)\n",
            "Requirement already satisfied: idna<4,>=2.5 in /usr/local/lib/python3.10/dist-packages (from requests>=2.9.1->tsfresh) (3.6)\n",
            "Requirement already satisfied: urllib3<3,>=1.21.1 in /usr/local/lib/python3.10/dist-packages (from requests>=2.9.1->tsfresh) (2.0.7)\n",
            "Requirement already satisfied: certifi>=2017.4.17 in /usr/local/lib/python3.10/dist-packages (from requests>=2.9.1->tsfresh) (2024.2.2)\n",
            "Requirement already satisfied: joblib>=1.1.1 in /usr/local/lib/python3.10/dist-packages (from scikit-learn>=0.22.0->tsfresh) (1.3.2)\n",
            "Requirement already satisfied: threadpoolctl>=2.0.0 in /usr/local/lib/python3.10/dist-packages (from scikit-learn>=0.22.0->tsfresh) (3.3.0)\n",
            "Requirement already satisfied: packaging>=21.3 in /usr/local/lib/python3.10/dist-packages (from statsmodels>=0.13->tsfresh) (23.2)\n",
            "Requirement already satisfied: numba>=0.55.2 in /usr/local/lib/python3.10/dist-packages (from stumpy>=1.7.2->tsfresh) (0.58.1)\n",
            "Requirement already satisfied: llvmlite<0.42,>=0.41.0dev0 in /usr/local/lib/python3.10/dist-packages (from numba>=0.55.2->stumpy>=1.7.2->tsfresh) (0.41.1)\n",
            "Installing collected packages: stumpy, tsfresh\n",
            "Successfully installed stumpy-1.12.0 tsfresh-0.20.2\n"
          ]
        }
      ]
    },
    {
      "cell_type": "code",
      "source": [
        "from google.colab import drive\n",
        "drive.mount('/content/drive')\n"
      ],
      "metadata": {
        "colab": {
          "base_uri": "https://localhost:8080/"
        },
        "id": "BPQBOk7Rugm3",
        "outputId": "4ed7f244-1387-488a-ae96-9d1c361ae075"
      },
      "id": "BPQBOk7Rugm3",
      "execution_count": 4,
      "outputs": [
        {
          "output_type": "stream",
          "name": "stdout",
          "text": [
            "Drive already mounted at /content/drive; to attempt to forcibly remount, call drive.mount(\"/content/drive\", force_remount=True).\n"
          ]
        }
      ]
    },
    {
      "cell_type": "code",
      "execution_count": 5,
      "id": "96435299-050b-4010-b57c-cc490b83b705",
      "metadata": {
        "id": "96435299-050b-4010-b57c-cc490b83b705"
      },
      "outputs": [],
      "source": [
        "import pandas as pd\n",
        "import numpy as np\n",
        "from tsfresh import extract_features\n",
        "from tsfresh.feature_extraction import ComprehensiveFCParameters\n",
        "\n",
        "# If you need to plot or visualize data later on\n",
        "import matplotlib.pyplot as plt\n",
        "import seaborn as sns\n",
        "\n",
        "# For any data preprocessing or manipulation\n",
        "from sklearn.model_selection import train_test_split\n",
        "from sklearn.preprocessing import StandardScaler\n",
        "\n",
        "# Depending on the models you plan to use\n",
        "from sklearn.ensemble import RandomForestClassifier\n",
        "from sklearn.metrics import accuracy_score, classification_report\n"
      ]
    },
    {
      "cell_type": "markdown",
      "id": "38da3325-d76d-421e-94d0-0596c6b95d3b",
      "metadata": {
        "id": "38da3325-d76d-421e-94d0-0596c6b95d3b"
      },
      "source": [
        "## Dataset"
      ]
    },
    {
      "cell_type": "code",
      "execution_count": 6,
      "id": "37dbff3e-7b6b-4798-9190-3d0180925068",
      "metadata": {
        "id": "37dbff3e-7b6b-4798-9190-3d0180925068"
      },
      "outputs": [],
      "source": [
        "fazeli_mitbih_train_df = pd.read_csv('/content/drive/MyDrive/mitbih_train.csv', header=None)"
      ]
    },
    {
      "cell_type": "code",
      "source": [
        "fazeli_mitbih_test_df = pd.read_csv('/content/drive/MyDrive/Colab Notebooks/mitbih_test.csv', header=None)"
      ],
      "metadata": {
        "id": "KwjAVYgmE55a"
      },
      "id": "KwjAVYgmE55a",
      "execution_count": 18,
      "outputs": []
    },
    {
      "cell_type": "code",
      "execution_count": 7,
      "id": "74aed28a-031c-4298-a7f8-3d01d46e93be",
      "metadata": {
        "colab": {
          "base_uri": "https://localhost:8080/"
        },
        "id": "74aed28a-031c-4298-a7f8-3d01d46e93be",
        "outputId": "ef63667f-278f-4e77-d4b8-11f23349010d"
      },
      "outputs": [
        {
          "output_type": "execute_result",
          "data": {
            "text/plain": [
              "0.0    72471\n",
              "4.0     6431\n",
              "2.0     5788\n",
              "1.0     2223\n",
              "3.0      641\n",
              "Name: 187, dtype: int64"
            ]
          },
          "metadata": {},
          "execution_count": 7
        }
      ],
      "source": [
        "column_187 = fazeli_mitbih_train_df.iloc[:, 187]\n",
        "column_187.value_counts()"
      ]
    },
    {
      "cell_type": "markdown",
      "id": "dee19804-7f3c-4139-8068-df2c0700db04",
      "metadata": {
        "id": "dee19804-7f3c-4139-8068-df2c0700db04"
      },
      "source": [
        "## Comprehensive Feature Extraction\n",
        "\n",
        "using tsfresh time series comprehensive feature extraction package"
      ]
    },
    {
      "cell_type": "markdown",
      "id": "e950b2da-a4ef-4a60-b0bf-c3be621ba4da",
      "metadata": {
        "id": "e950b2da-a4ef-4a60-b0bf-c3be621ba4da"
      },
      "source": [
        "### Next cell takes 15-30 min to run"
      ]
    },
    {
      "cell_type": "code",
      "execution_count": null,
      "id": "eb38587e-4ec4-449d-80dd-366aa28a7e83",
      "metadata": {
        "id": "eb38587e-4ec4-449d-80dd-366aa28a7e83",
        "outputId": "b7e2185c-252b-40cc-ad06-23f54b84b468"
      },
      "outputs": [
        {
          "name": "stderr",
          "output_type": "stream",
          "text": [
            "Feature Extraction:   0%|                                | 0/35 [00:00<?, ?it/s]/Users/ry/anaconda3/envs/tf-gpu/lib/python3.9/site-packages/dask/dataframe/_pyarrow_compat.py:17: FutureWarning: Minimal version of pyarrow will soon be increased to 14.0.1. You are using 12.0.1. Please consider upgrading.\n",
            "  warnings.warn(\n",
            "/Users/ry/anaconda3/envs/tf-gpu/lib/python3.9/site-packages/dask/dataframe/_pyarrow_compat.py:17: FutureWarning: Minimal version of pyarrow will soon be increased to 14.0.1. You are using 12.0.1. Please consider upgrading.\n",
            "  warnings.warn(\n",
            "/Users/ry/anaconda3/envs/tf-gpu/lib/python3.9/site-packages/dask/dataframe/_pyarrow_compat.py:17: FutureWarning: Minimal version of pyarrow will soon be increased to 14.0.1. You are using 12.0.1. Please consider upgrading.\n",
            "  warnings.warn(\n",
            "/Users/ry/anaconda3/envs/tf-gpu/lib/python3.9/site-packages/dask/dataframe/_pyarrow_compat.py:17: FutureWarning: Minimal version of pyarrow will soon be increased to 14.0.1. You are using 12.0.1. Please consider upgrading.\n",
            "  warnings.warn(\n",
            "/Users/ry/anaconda3/envs/tf-gpu/lib/python3.9/site-packages/dask/dataframe/_pyarrow_compat.py:17: FutureWarning: Minimal version of pyarrow will soon be increased to 14.0.1. You are using 12.0.1. Please consider upgrading.\n",
            "  warnings.warn(\n",
            "/Users/ry/anaconda3/envs/tf-gpu/lib/python3.9/site-packages/dask/dataframe/_pyarrow_compat.py:17: FutureWarning: Minimal version of pyarrow will soon be increased to 14.0.1. You are using 12.0.1. Please consider upgrading.\n",
            "  warnings.warn(\n",
            "/Users/ry/anaconda3/envs/tf-gpu/lib/python3.9/site-packages/dask/dataframe/_pyarrow_compat.py:17: FutureWarning: Minimal version of pyarrow will soon be increased to 14.0.1. You are using 12.0.1. Please consider upgrading.\n",
            "  warnings.warn(\n",
            "Feature Extraction: 100%|███████████████████████| 35/35 [01:07<00:00,  1.92s/it]\n",
            "Feature Extraction:   0%|                                | 0/35 [00:00<?, ?it/s]/Users/ry/anaconda3/envs/tf-gpu/lib/python3.9/site-packages/dask/dataframe/_pyarrow_compat.py:17: FutureWarning: Minimal version of pyarrow will soon be increased to 14.0.1. You are using 12.0.1. Please consider upgrading.\n",
            "  warnings.warn(\n",
            "/Users/ry/anaconda3/envs/tf-gpu/lib/python3.9/site-packages/dask/dataframe/_pyarrow_compat.py:17: FutureWarning: Minimal version of pyarrow will soon be increased to 14.0.1. You are using 12.0.1. Please consider upgrading.\n",
            "  warnings.warn(\n",
            "/Users/ry/anaconda3/envs/tf-gpu/lib/python3.9/site-packages/dask/dataframe/_pyarrow_compat.py:17: FutureWarning: Minimal version of pyarrow will soon be increased to 14.0.1. You are using 12.0.1. Please consider upgrading.\n",
            "  warnings.warn(\n",
            "/Users/ry/anaconda3/envs/tf-gpu/lib/python3.9/site-packages/dask/dataframe/_pyarrow_compat.py:17: FutureWarning: Minimal version of pyarrow will soon be increased to 14.0.1. You are using 12.0.1. Please consider upgrading.\n",
            "  warnings.warn(\n",
            "/Users/ry/anaconda3/envs/tf-gpu/lib/python3.9/site-packages/dask/dataframe/_pyarrow_compat.py:17: FutureWarning: Minimal version of pyarrow will soon be increased to 14.0.1. You are using 12.0.1. Please consider upgrading.\n",
            "  warnings.warn(\n",
            "/Users/ry/anaconda3/envs/tf-gpu/lib/python3.9/site-packages/dask/dataframe/_pyarrow_compat.py:17: FutureWarning: Minimal version of pyarrow will soon be increased to 14.0.1. You are using 12.0.1. Please consider upgrading.\n",
            "  warnings.warn(\n",
            "/Users/ry/anaconda3/envs/tf-gpu/lib/python3.9/site-packages/dask/dataframe/_pyarrow_compat.py:17: FutureWarning: Minimal version of pyarrow will soon be increased to 14.0.1. You are using 12.0.1. Please consider upgrading.\n",
            "  warnings.warn(\n",
            "Feature Extraction: 100%|███████████████████████| 35/35 [01:09<00:00,  1.98s/it]\n",
            "Feature Extraction:   0%|                                | 0/35 [00:00<?, ?it/s]/Users/ry/anaconda3/envs/tf-gpu/lib/python3.9/site-packages/dask/dataframe/_pyarrow_compat.py:17: FutureWarning: Minimal version of pyarrow will soon be increased to 14.0.1. You are using 12.0.1. Please consider upgrading.\n",
            "  warnings.warn(\n",
            "/Users/ry/anaconda3/envs/tf-gpu/lib/python3.9/site-packages/dask/dataframe/_pyarrow_compat.py:17: FutureWarning: Minimal version of pyarrow will soon be increased to 14.0.1. You are using 12.0.1. Please consider upgrading.\n",
            "  warnings.warn(\n",
            "/Users/ry/anaconda3/envs/tf-gpu/lib/python3.9/site-packages/dask/dataframe/_pyarrow_compat.py:17: FutureWarning: Minimal version of pyarrow will soon be increased to 14.0.1. You are using 12.0.1. Please consider upgrading.\n",
            "  warnings.warn(\n",
            "/Users/ry/anaconda3/envs/tf-gpu/lib/python3.9/site-packages/dask/dataframe/_pyarrow_compat.py:17: FutureWarning: Minimal version of pyarrow will soon be increased to 14.0.1. You are using 12.0.1. Please consider upgrading.\n",
            "  warnings.warn(\n",
            "/Users/ry/anaconda3/envs/tf-gpu/lib/python3.9/site-packages/dask/dataframe/_pyarrow_compat.py:17: FutureWarning: Minimal version of pyarrow will soon be increased to 14.0.1. You are using 12.0.1. Please consider upgrading.\n",
            "  warnings.warn(\n",
            "/Users/ry/anaconda3/envs/tf-gpu/lib/python3.9/site-packages/dask/dataframe/_pyarrow_compat.py:17: FutureWarning: Minimal version of pyarrow will soon be increased to 14.0.1. You are using 12.0.1. Please consider upgrading.\n",
            "  warnings.warn(\n",
            "/Users/ry/anaconda3/envs/tf-gpu/lib/python3.9/site-packages/dask/dataframe/_pyarrow_compat.py:17: FutureWarning: Minimal version of pyarrow will soon be increased to 14.0.1. You are using 12.0.1. Please consider upgrading.\n",
            "  warnings.warn(\n",
            "Feature Extraction: 100%|███████████████████████| 35/35 [01:11<00:00,  2.05s/it]\n",
            "Feature Extraction:   0%|                                | 0/35 [00:00<?, ?it/s]/Users/ry/anaconda3/envs/tf-gpu/lib/python3.9/site-packages/dask/dataframe/_pyarrow_compat.py:17: FutureWarning: Minimal version of pyarrow will soon be increased to 14.0.1. You are using 12.0.1. Please consider upgrading.\n",
            "  warnings.warn(\n",
            "/Users/ry/anaconda3/envs/tf-gpu/lib/python3.9/site-packages/dask/dataframe/_pyarrow_compat.py:17: FutureWarning: Minimal version of pyarrow will soon be increased to 14.0.1. You are using 12.0.1. Please consider upgrading.\n",
            "  warnings.warn(\n",
            "/Users/ry/anaconda3/envs/tf-gpu/lib/python3.9/site-packages/dask/dataframe/_pyarrow_compat.py:17: FutureWarning: Minimal version of pyarrow will soon be increased to 14.0.1. You are using 12.0.1. Please consider upgrading.\n",
            "  warnings.warn(\n",
            "/Users/ry/anaconda3/envs/tf-gpu/lib/python3.9/site-packages/dask/dataframe/_pyarrow_compat.py:17: FutureWarning: Minimal version of pyarrow will soon be increased to 14.0.1. You are using 12.0.1. Please consider upgrading.\n",
            "  warnings.warn(\n",
            "/Users/ry/anaconda3/envs/tf-gpu/lib/python3.9/site-packages/dask/dataframe/_pyarrow_compat.py:17: FutureWarning: Minimal version of pyarrow will soon be increased to 14.0.1. You are using 12.0.1. Please consider upgrading.\n",
            "  warnings.warn(\n",
            "/Users/ry/anaconda3/envs/tf-gpu/lib/python3.9/site-packages/dask/dataframe/_pyarrow_compat.py:17: FutureWarning: Minimal version of pyarrow will soon be increased to 14.0.1. You are using 12.0.1. Please consider upgrading.\n",
            "  warnings.warn(\n",
            "/Users/ry/anaconda3/envs/tf-gpu/lib/python3.9/site-packages/dask/dataframe/_pyarrow_compat.py:17: FutureWarning: Minimal version of pyarrow will soon be increased to 14.0.1. You are using 12.0.1. Please consider upgrading.\n",
            "  warnings.warn(\n",
            "Feature Extraction: 100%|███████████████████████| 35/35 [01:12<00:00,  2.07s/it]\n",
            "Feature Extraction:   0%|                                | 0/35 [00:00<?, ?it/s]/Users/ry/anaconda3/envs/tf-gpu/lib/python3.9/site-packages/dask/dataframe/_pyarrow_compat.py:17: FutureWarning: Minimal version of pyarrow will soon be increased to 14.0.1. You are using 12.0.1. Please consider upgrading.\n",
            "  warnings.warn(\n",
            "/Users/ry/anaconda3/envs/tf-gpu/lib/python3.9/site-packages/dask/dataframe/_pyarrow_compat.py:17: FutureWarning: Minimal version of pyarrow will soon be increased to 14.0.1. You are using 12.0.1. Please consider upgrading.\n",
            "  warnings.warn(\n",
            "/Users/ry/anaconda3/envs/tf-gpu/lib/python3.9/site-packages/dask/dataframe/_pyarrow_compat.py:17: FutureWarning: Minimal version of pyarrow will soon be increased to 14.0.1. You are using 12.0.1. Please consider upgrading.\n",
            "  warnings.warn(\n",
            "/Users/ry/anaconda3/envs/tf-gpu/lib/python3.9/site-packages/dask/dataframe/_pyarrow_compat.py:17: FutureWarning: Minimal version of pyarrow will soon be increased to 14.0.1. You are using 12.0.1. Please consider upgrading.\n",
            "  warnings.warn(\n",
            "/Users/ry/anaconda3/envs/tf-gpu/lib/python3.9/site-packages/dask/dataframe/_pyarrow_compat.py:17: FutureWarning: Minimal version of pyarrow will soon be increased to 14.0.1. You are using 12.0.1. Please consider upgrading.\n",
            "  warnings.warn(\n",
            "/Users/ry/anaconda3/envs/tf-gpu/lib/python3.9/site-packages/dask/dataframe/_pyarrow_compat.py:17: FutureWarning: Minimal version of pyarrow will soon be increased to 14.0.1. You are using 12.0.1. Please consider upgrading.\n",
            "  warnings.warn(\n",
            "/Users/ry/anaconda3/envs/tf-gpu/lib/python3.9/site-packages/dask/dataframe/_pyarrow_compat.py:17: FutureWarning: Minimal version of pyarrow will soon be increased to 14.0.1. You are using 12.0.1. Please consider upgrading.\n",
            "  warnings.warn(\n"
          ]
        },
        {
          "name": "stderr",
          "output_type": "stream",
          "text": [
            "Feature Extraction: 100%|███████████████████████| 35/35 [01:13<00:00,  2.10s/it]\n",
            "Feature Extraction:   0%|                                | 0/35 [00:00<?, ?it/s]/Users/ry/anaconda3/envs/tf-gpu/lib/python3.9/site-packages/dask/dataframe/_pyarrow_compat.py:17: FutureWarning: Minimal version of pyarrow will soon be increased to 14.0.1. You are using 12.0.1. Please consider upgrading.\n",
            "  warnings.warn(\n",
            "/Users/ry/anaconda3/envs/tf-gpu/lib/python3.9/site-packages/dask/dataframe/_pyarrow_compat.py:17: FutureWarning: Minimal version of pyarrow will soon be increased to 14.0.1. You are using 12.0.1. Please consider upgrading.\n",
            "  warnings.warn(\n",
            "/Users/ry/anaconda3/envs/tf-gpu/lib/python3.9/site-packages/dask/dataframe/_pyarrow_compat.py:17: FutureWarning: Minimal version of pyarrow will soon be increased to 14.0.1. You are using 12.0.1. Please consider upgrading.\n",
            "  warnings.warn(\n",
            "/Users/ry/anaconda3/envs/tf-gpu/lib/python3.9/site-packages/dask/dataframe/_pyarrow_compat.py:17: FutureWarning: Minimal version of pyarrow will soon be increased to 14.0.1. You are using 12.0.1. Please consider upgrading.\n",
            "  warnings.warn(\n",
            "/Users/ry/anaconda3/envs/tf-gpu/lib/python3.9/site-packages/dask/dataframe/_pyarrow_compat.py:17: FutureWarning: Minimal version of pyarrow will soon be increased to 14.0.1. You are using 12.0.1. Please consider upgrading.\n",
            "  warnings.warn(\n",
            "/Users/ry/anaconda3/envs/tf-gpu/lib/python3.9/site-packages/dask/dataframe/_pyarrow_compat.py:17: FutureWarning: Minimal version of pyarrow will soon be increased to 14.0.1. You are using 12.0.1. Please consider upgrading.\n",
            "  warnings.warn(\n",
            "/Users/ry/anaconda3/envs/tf-gpu/lib/python3.9/site-packages/dask/dataframe/_pyarrow_compat.py:17: FutureWarning: Minimal version of pyarrow will soon be increased to 14.0.1. You are using 12.0.1. Please consider upgrading.\n",
            "  warnings.warn(\n",
            "Feature Extraction: 100%|███████████████████████| 35/35 [01:12<00:00,  2.07s/it]\n",
            "Feature Extraction:   0%|                                | 0/35 [00:00<?, ?it/s]/Users/ry/anaconda3/envs/tf-gpu/lib/python3.9/site-packages/dask/dataframe/_pyarrow_compat.py:17: FutureWarning: Minimal version of pyarrow will soon be increased to 14.0.1. You are using 12.0.1. Please consider upgrading.\n",
            "  warnings.warn(\n",
            "/Users/ry/anaconda3/envs/tf-gpu/lib/python3.9/site-packages/dask/dataframe/_pyarrow_compat.py:17: FutureWarning: Minimal version of pyarrow will soon be increased to 14.0.1. You are using 12.0.1. Please consider upgrading.\n",
            "  warnings.warn(\n",
            "/Users/ry/anaconda3/envs/tf-gpu/lib/python3.9/site-packages/dask/dataframe/_pyarrow_compat.py:17: FutureWarning: Minimal version of pyarrow will soon be increased to 14.0.1. You are using 12.0.1. Please consider upgrading.\n",
            "  warnings.warn(\n",
            "/Users/ry/anaconda3/envs/tf-gpu/lib/python3.9/site-packages/dask/dataframe/_pyarrow_compat.py:17: FutureWarning: Minimal version of pyarrow will soon be increased to 14.0.1. You are using 12.0.1. Please consider upgrading.\n",
            "  warnings.warn(\n",
            "/Users/ry/anaconda3/envs/tf-gpu/lib/python3.9/site-packages/dask/dataframe/_pyarrow_compat.py:17: FutureWarning: Minimal version of pyarrow will soon be increased to 14.0.1. You are using 12.0.1. Please consider upgrading.\n",
            "  warnings.warn(\n",
            "/Users/ry/anaconda3/envs/tf-gpu/lib/python3.9/site-packages/dask/dataframe/_pyarrow_compat.py:17: FutureWarning: Minimal version of pyarrow will soon be increased to 14.0.1. You are using 12.0.1. Please consider upgrading.\n",
            "  warnings.warn(\n",
            "/Users/ry/anaconda3/envs/tf-gpu/lib/python3.9/site-packages/dask/dataframe/_pyarrow_compat.py:17: FutureWarning: Minimal version of pyarrow will soon be increased to 14.0.1. You are using 12.0.1. Please consider upgrading.\n",
            "  warnings.warn(\n",
            "Feature Extraction: 100%|███████████████████████| 35/35 [01:14<00:00,  2.14s/it]\n",
            "Feature Extraction:   0%|                                | 0/35 [00:00<?, ?it/s]/Users/ry/anaconda3/envs/tf-gpu/lib/python3.9/site-packages/dask/dataframe/_pyarrow_compat.py:17: FutureWarning: Minimal version of pyarrow will soon be increased to 14.0.1. You are using 12.0.1. Please consider upgrading.\n",
            "  warnings.warn(\n",
            "/Users/ry/anaconda3/envs/tf-gpu/lib/python3.9/site-packages/dask/dataframe/_pyarrow_compat.py:17: FutureWarning: Minimal version of pyarrow will soon be increased to 14.0.1. You are using 12.0.1. Please consider upgrading.\n",
            "  warnings.warn(\n",
            "/Users/ry/anaconda3/envs/tf-gpu/lib/python3.9/site-packages/dask/dataframe/_pyarrow_compat.py:17: FutureWarning: Minimal version of pyarrow will soon be increased to 14.0.1. You are using 12.0.1. Please consider upgrading.\n",
            "  warnings.warn(\n",
            "/Users/ry/anaconda3/envs/tf-gpu/lib/python3.9/site-packages/dask/dataframe/_pyarrow_compat.py:17: FutureWarning: Minimal version of pyarrow will soon be increased to 14.0.1. You are using 12.0.1. Please consider upgrading.\n",
            "  warnings.warn(\n",
            "/Users/ry/anaconda3/envs/tf-gpu/lib/python3.9/site-packages/dask/dataframe/_pyarrow_compat.py:17: FutureWarning: Minimal version of pyarrow will soon be increased to 14.0.1. You are using 12.0.1. Please consider upgrading.\n",
            "  warnings.warn(\n",
            "/Users/ry/anaconda3/envs/tf-gpu/lib/python3.9/site-packages/dask/dataframe/_pyarrow_compat.py:17: FutureWarning: Minimal version of pyarrow will soon be increased to 14.0.1. You are using 12.0.1. Please consider upgrading.\n",
            "  warnings.warn(\n",
            "/Users/ry/anaconda3/envs/tf-gpu/lib/python3.9/site-packages/dask/dataframe/_pyarrow_compat.py:17: FutureWarning: Minimal version of pyarrow will soon be increased to 14.0.1. You are using 12.0.1. Please consider upgrading.\n",
            "  warnings.warn(\n",
            "Feature Extraction: 100%|███████████████████████| 35/35 [01:16<00:00,  2.18s/it]\n",
            "Feature Extraction:   0%|                                | 0/35 [00:00<?, ?it/s]/Users/ry/anaconda3/envs/tf-gpu/lib/python3.9/site-packages/dask/dataframe/_pyarrow_compat.py:17: FutureWarning: Minimal version of pyarrow will soon be increased to 14.0.1. You are using 12.0.1. Please consider upgrading.\n",
            "  warnings.warn(\n",
            "/Users/ry/anaconda3/envs/tf-gpu/lib/python3.9/site-packages/dask/dataframe/_pyarrow_compat.py:17: FutureWarning: Minimal version of pyarrow will soon be increased to 14.0.1. You are using 12.0.1. Please consider upgrading.\n",
            "  warnings.warn(\n",
            "/Users/ry/anaconda3/envs/tf-gpu/lib/python3.9/site-packages/dask/dataframe/_pyarrow_compat.py:17: FutureWarning: Minimal version of pyarrow will soon be increased to 14.0.1. You are using 12.0.1. Please consider upgrading.\n",
            "  warnings.warn(\n",
            "/Users/ry/anaconda3/envs/tf-gpu/lib/python3.9/site-packages/dask/dataframe/_pyarrow_compat.py:17: FutureWarning: Minimal version of pyarrow will soon be increased to 14.0.1. You are using 12.0.1. Please consider upgrading.\n",
            "  warnings.warn(\n",
            "/Users/ry/anaconda3/envs/tf-gpu/lib/python3.9/site-packages/dask/dataframe/_pyarrow_compat.py:17: FutureWarning: Minimal version of pyarrow will soon be increased to 14.0.1. You are using 12.0.1. Please consider upgrading.\n",
            "  warnings.warn(\n",
            "/Users/ry/anaconda3/envs/tf-gpu/lib/python3.9/site-packages/dask/dataframe/_pyarrow_compat.py:17: FutureWarning: Minimal version of pyarrow will soon be increased to 14.0.1. You are using 12.0.1. Please consider upgrading.\n",
            "  warnings.warn(\n",
            "/Users/ry/anaconda3/envs/tf-gpu/lib/python3.9/site-packages/dask/dataframe/_pyarrow_compat.py:17: FutureWarning: Minimal version of pyarrow will soon be increased to 14.0.1. You are using 12.0.1. Please consider upgrading.\n",
            "  warnings.warn(\n",
            "Feature Extraction: 100%|███████████████████████| 35/35 [00:58<00:00,  1.68s/it]\n"
          ]
        }
      ],
      "source": [
        "import pandas as pd\n",
        "from tsfresh import extract_features\n",
        "from tsfresh.feature_extraction import ComprehensiveFCParameters\n",
        "\n",
        "# Load your dataset\n",
        "fazeli_mitbih_train_df = pd.read_csv('../data/mitbih_train.csv', header=None)\n",
        "\n",
        "# Assign a unique ID to each row and separate the target variable\n",
        "fazeli_mitbih_train_df['id'] = range(len(fazeli_mitbih_train_df))\n",
        "target_series = fazeli_mitbih_train_df[187]\n",
        "\n",
        "# Keep only features and the unique ID for feature extraction\n",
        "fazeli_mitbih_train_df_features_only = fazeli_mitbih_train_df.drop(columns=[187])\n",
        "\n",
        "# Convert to long format, preserving the 'id' for direct mapping\n",
        "long_df = fazeli_mitbih_train_df_features_only.melt(id_vars='id', var_name='time', value_name='amplitude')\n",
        "\n",
        "# Define feature extraction settings\n",
        "extraction_settings = ComprehensiveFCParameters()\n",
        "\n",
        "# Incremental extraction setup\n",
        "unique_ids = long_df['id'].unique()\n",
        "subset_size = 10000  # Adjust based on your dataset size and memory constraints\n",
        "extracted_features_list = []\n",
        "\n",
        "for i in range(0, len(unique_ids), subset_size):\n",
        "    subset_ids = unique_ids[i:i+subset_size]\n",
        "    subset_df = long_df[long_df['id'].isin(subset_ids)]\n",
        "\n",
        "    # Extract features for this subset\n",
        "    subset_features = extract_features(subset_df, column_id='id', column_sort='time',\n",
        "                                       default_fc_parameters=extraction_settings, n_jobs=7)\n",
        "    extracted_features_list.append(subset_features)\n",
        "\n"
      ]
    },
    {
      "cell_type": "code",
      "execution_count": null,
      "id": "5ceb8dc3-bb1a-4fc1-8789-1b8cc965c9b9",
      "metadata": {
        "id": "5ceb8dc3-bb1a-4fc1-8789-1b8cc965c9b9",
        "outputId": "c94316b1-ca30-4c71-931c-0d8ac4f1695a"
      },
      "outputs": [
        {
          "name": "stdout",
          "output_type": "stream",
          "text": [
            "   label\n",
            "0    0.0\n",
            "1    0.0\n",
            "2    0.0\n",
            "3    0.0\n",
            "4    0.0\n"
          ]
        }
      ],
      "source": [
        "\n",
        "# Combine extracted features from all subsets\n",
        "extracted_features = pd.concat(extracted_features_list)\n",
        "\n",
        "# Re-associate the target labels using the 'id' column\n",
        "# This step correctly maps the original labels to the extracted features based on 'id'\n",
        "extracted_features['label'] = extracted_features.index.map(lambda idx: target_series.loc[idx])\n",
        "\n",
        "# Verify the re-association of labels\n",
        "print(extracted_features[['label']].head())\n"
      ]
    },
    {
      "cell_type": "code",
      "execution_count": null,
      "id": "58082168-ea63-41ed-92ca-4a2a80362104",
      "metadata": {
        "id": "58082168-ea63-41ed-92ca-4a2a80362104",
        "outputId": "4b66595d-401d-44a3-a6aa-a1b39da60007"
      },
      "outputs": [
        {
          "data": {
            "text/plain": [
              "label\n",
              "0.0    72471\n",
              "4.0     6431\n",
              "2.0     5788\n",
              "1.0     2223\n",
              "3.0      641\n",
              "Name: count, dtype: int64"
            ]
          },
          "execution_count": 6,
          "metadata": {},
          "output_type": "execute_result"
        }
      ],
      "source": [
        "column_187_extracted = extracted_features['label']\n",
        "column_187_extracted.value_counts()"
      ]
    },
    {
      "cell_type": "markdown",
      "id": "b7c62a9e-4a10-42fe-ab0e-f70e12238336",
      "metadata": {
        "id": "b7c62a9e-4a10-42fe-ab0e-f70e12238336"
      },
      "source": [
        "## Set X and y from extracted features, Perform train_test_split"
      ]
    },
    {
      "cell_type": "code",
      "execution_count": null,
      "id": "08955da9-01b4-4570-98af-fd2227d80f70",
      "metadata": {
        "id": "08955da9-01b4-4570-98af-fd2227d80f70"
      },
      "outputs": [],
      "source": [
        "# Setting X and y from my extracted features\n",
        "X = extracted_features.drop('label', axis=1)\n",
        "y = extracted_features['label']\n",
        "\n",
        "# Split data into training and test sets\n",
        "X_train, X_test, y_train, y_test = train_test_split(X, y, test_size=0.2, random_state=42)\n"
      ]
    },
    {
      "cell_type": "markdown",
      "id": "3376e4c2-e6a3-41fc-8edd-3580bf98081c",
      "metadata": {
        "id": "3376e4c2-e6a3-41fc-8edd-3580bf98081c"
      },
      "source": [
        "# WIP Neural Network"
      ]
    },
    {
      "cell_type": "code",
      "source": [
        "# Evaluate the model on the test data\n",
        "test_loss, test_accuracy = model.evaluate(X_test, y_test, verbose=2)\n",
        "print(f\"Test Accuracy: {test_accuracy}\")\n",
        "\n"
      ],
      "metadata": {
        "colab": {
          "base_uri": "https://localhost:8080/"
        },
        "id": "nYtB2Z0lyVMs",
        "outputId": "ac16978f-8ace-4823-a2e7-c1960fde5a0e"
      },
      "id": "nYtB2Z0lyVMs",
      "execution_count": 13,
      "outputs": [
        {
          "output_type": "stream",
          "name": "stdout",
          "text": [
            "548/548 - 1s - loss: 0.0623 - accuracy: 0.9837 - 1s/epoch - 2ms/step\n",
            "Test Accuracy: 0.9837245345115662\n"
          ]
        }
      ]
    },
    {
      "cell_type": "code",
      "source": [
        "import numpy as np\n",
        "import matplotlib.pyplot as plt\n",
        "from sklearn.metrics import confusion_matrix\n",
        "import seaborn as sns\n",
        "\n",
        "# Predict the classes with the model\n",
        "predictions = model.predict(X_test)\n",
        "\n",
        "# Convert predictions from one-hot encoded vectors to class labels\n",
        "predicted_labels = np.argmax(predictions, axis=1)\n",
        "\n",
        "# Convert true labels from one-hot encoded vectors to class labels\n",
        "true_labels = np.argmax(y_test, axis=1)\n",
        "\n",
        "# Now you can compute the confusion matrix and plot it as previously described\n",
        "cm = confusion_matrix(true_labels, predicted_labels)\n",
        "\n",
        "# Plot the confusion matrix\n",
        "plt.figure(figsize=(10, 7))\n",
        "sns.heatmap(cm, annot=True, fmt=\"d\", cmap=\"Blues\", xticklabels=[\"Class 0\", \"Class 1\", \"Class 2\", \"Class 3\", \"Class 4\"], yticklabels=[\"Class 0\", \"Class 1\", \"Class 2\", \"Class 3\", \"Class 4\"])\n",
        "plt.title('Confusion Matrix')\n",
        "plt.xlabel('Predicted Labels')\n",
        "plt.ylabel('True Labels')\n",
        "plt.show()\n",
        "\n"
      ],
      "metadata": {
        "colab": {
          "base_uri": "https://localhost:8080/",
          "height": 658
        },
        "id": "RcxsydaayaCu",
        "outputId": "20b8a8d7-9ef8-44c4-857b-021f472f00c4"
      },
      "id": "RcxsydaayaCu",
      "execution_count": 14,
      "outputs": [
        {
          "output_type": "stream",
          "name": "stdout",
          "text": [
            "548/548 [==============================] - 1s 2ms/step\n"
          ]
        },
        {
          "output_type": "display_data",
          "data": {
            "text/plain": [
              "<Figure size 1000x700 with 2 Axes>"
            ],
            "image/png": "[encoded data removed]"
          },
          "metadata": {}
        }
      ]
    },
    {
      "cell_type": "code",
      "source": [
        "from tensorflow.keras.models import Sequential\n",
        "from tensorflow.keras.layers import Conv1D, MaxPooling1D, GlobalAveragePooling1D, Dense, Dropout\n",
        "\n",
        "# Assuming your input shape is (timesteps, features)\n",
        "input_shape = (187, 1)  # Adjusted input shape to match your dataset\n",
        "\n",
        "model = Sequential([\n",
        "    Conv1D(filters=64, kernel_size=5, activation='relu', input_shape=input_shape),\n",
        "    MaxPooling1D(pool_size=2),\n",
        "    Dropout(0.1),\n",
        "\n",
        "    Conv1D(filters=128, kernel_size=3, activation='relu'),\n",
        "    MaxPooling1D(pool_size=2),\n",
        "    Dropout(0.1),\n",
        "\n",
        "    Conv1D(filters=256, kernel_size=3, activation='relu'),\n",
        "    GlobalAveragePooling1D(),\n",
        "\n",
        "    Dense(100, activation='relu'),\n",
        "    Dropout(0.5),\n",
        "    Dense(5, activation='softmax')  # Adjusted for 5 classes\n",
        "])\n",
        "\n",
        "model.compile(optimizer='adam', loss='categorical_crossentropy', metrics=['accuracy'])\n",
        "model.summary()\n"
      ],
      "metadata": {
        "colab": {
          "base_uri": "https://localhost:8080/"
        },
        "id": "11PLqEnMyWwo",
        "outputId": "c1abad8c-e65c-450a-eb70-db389ffc54b9"
      },
      "id": "11PLqEnMyWwo",
      "execution_count": 8,
      "outputs": [
        {
          "output_type": "stream",
          "name": "stdout",
          "text": [
            "Model: \"sequential\"\n",
            "_________________________________________________________________\n",
            " Layer (type)                Output Shape              Param #   \n",
            "=================================================================\n",
            " conv1d (Conv1D)             (None, 183, 64)           384       \n",
            "                                                                 \n",
            " max_pooling1d (MaxPooling1  (None, 91, 64)            0         \n",
            " D)                                                              \n",
            "                                                                 \n",
            " dropout (Dropout)           (None, 91, 64)            0         \n",
            "                                                                 \n",
            " conv1d_1 (Conv1D)           (None, 89, 128)           24704     \n",
            "                                                                 \n",
            " max_pooling1d_1 (MaxPoolin  (None, 44, 128)           0         \n",
            " g1D)                                                            \n",
            "                                                                 \n",
            " dropout_1 (Dropout)         (None, 44, 128)           0         \n",
            "                                                                 \n",
            " conv1d_2 (Conv1D)           (None, 42, 256)           98560     \n",
            "                                                                 \n",
            " global_average_pooling1d (  (None, 256)               0         \n",
            " GlobalAveragePooling1D)                                         \n",
            "                                                                 \n",
            " dense (Dense)               (None, 100)               25700     \n",
            "                                                                 \n",
            " dropout_2 (Dropout)         (None, 100)               0         \n",
            "                                                                 \n",
            " dense_1 (Dense)             (None, 5)                 505       \n",
            "                                                                 \n",
            "=================================================================\n",
            "Total params: 149853 (585.36 KB)\n",
            "Trainable params: 149853 (585.36 KB)\n",
            "Non-trainable params: 0 (0.00 Byte)\n",
            "_________________________________________________________________\n"
          ]
        }
      ]
    },
    {
      "cell_type": "code",
      "execution_count": 9,
      "id": "a8249bc9",
      "metadata": {
        "colab": {
          "base_uri": "https://localhost:8080/"
        },
        "id": "a8249bc9",
        "outputId": "85d6ff71-ab0c-45be-f54f-8082bb90fd55"
      },
      "outputs": [
        {
          "output_type": "stream",
          "name": "stdout",
          "text": [
            "Epoch 1/10\n",
            "2189/2189 [==============================] - 16s 5ms/step - loss: 0.4301 - accuracy: 0.8802 - val_loss: 0.2590 - val_accuracy: 0.9272\n",
            "Epoch 2/10\n",
            "2189/2189 [==============================] - 10s 5ms/step - loss: 0.2541 - accuracy: 0.9300 - val_loss: 0.2095 - val_accuracy: 0.9407\n",
            "Epoch 3/10\n",
            "2189/2189 [==============================] - 10s 5ms/step - loss: 0.2117 - accuracy: 0.9406 - val_loss: 0.1713 - val_accuracy: 0.9485\n",
            "Epoch 4/10\n",
            "2189/2189 [==============================] - 10s 5ms/step - loss: 0.1876 - accuracy: 0.9476 - val_loss: 0.1489 - val_accuracy: 0.9556\n",
            "Epoch 5/10\n",
            "2189/2189 [==============================] - 10s 5ms/step - loss: 0.1692 - accuracy: 0.9517 - val_loss: 0.1395 - val_accuracy: 0.9603\n",
            "Epoch 6/10\n",
            "2189/2189 [==============================] - 10s 5ms/step - loss: 0.1561 - accuracy: 0.9564 - val_loss: 0.1250 - val_accuracy: 0.9633\n",
            "Epoch 7/10\n",
            "2189/2189 [==============================] - 10s 5ms/step - loss: 0.1436 - accuracy: 0.9600 - val_loss: 0.1104 - val_accuracy: 0.9689\n",
            "Epoch 8/10\n",
            "2189/2189 [==============================] - 10s 5ms/step - loss: 0.1336 - accuracy: 0.9631 - val_loss: 0.1069 - val_accuracy: 0.9691\n",
            "Epoch 9/10\n",
            "2189/2189 [==============================] - 10s 5ms/step - loss: 0.1294 - accuracy: 0.9652 - val_loss: 0.1021 - val_accuracy: 0.9702\n",
            "Epoch 10/10\n",
            "2189/2189 [==============================] - 10s 4ms/step - loss: 0.1232 - accuracy: 0.9660 - val_loss: 0.1192 - val_accuracy: 0.9651\n"
          ]
        },
        {
          "output_type": "execute_result",
          "data": {
            "text/plain": [
              "<keras.src.callbacks.History at 0x790a5f51b280>"
            ]
          },
          "metadata": {},
          "execution_count": 9
        }
      ],
      "source": [
        "import numpy as np\n",
        "from tensorflow.keras.utils import to_categorical\n",
        "from sklearn.model_selection import train_test_split\n",
        "\n",
        "# Assuming fazeli_mitbih_train_df is your DataFrame and the last column is the label\n",
        "X = fazeli_mitbih_train_df.iloc[:, :-1].values\n",
        "y = fazeli_mitbih_train_df.iloc[:, -1].values\n",
        "\n",
        "# Reshape X to fit the Conv1D input requirements and convert y to categorical\n",
        "X_reshaped = X.reshape((X.shape[0], X.shape[1], 1))\n",
        "y_categorical = to_categorical(y)\n",
        "\n",
        "# Split the data\n",
        "X_train, X_test, y_train, y_test = train_test_split(X_reshaped, y_categorical, test_size=0.2, random_state=42)\n",
        "\n",
        "# Train the model\n",
        "model.fit(X_train, y_train, epochs=10, validation_data=(X_test, y_test))\n"
      ]
    },
    {
      "cell_type": "code",
      "source": [
        "import numpy as np\n",
        "from tensorflow.keras.utils import to_categorical\n",
        "from sklearn.model_selection import train_test_split\n",
        "from tensorflow.keras.callbacks import EarlyStopping, ReduceLROnPlateau, ModelCheckpoint\n",
        "\n",
        "# Assuming fazeli_mitbih_train_df is your DataFrame and the last column is the label\n",
        "X = fazeli_mitbih_train_df.iloc[:, :-1].values\n",
        "y = fazeli_mitbih_train_df.iloc[:, -1].values\n",
        "\n",
        "# Reshape X to fit the Conv1D input requirements and convert y to categorical\n",
        "X_reshaped = X.reshape((X.shape[0], X.shape[1], 1))\n",
        "y_categorical = to_categorical(y)\n",
        "\n",
        "# Split the data\n",
        "X_train, X_test, y_train, y_test = train_test_split(X_reshaped, y_categorical, test_size=0.2, random_state=42)\n",
        "\n",
        "# Define the ModelCheckpoint callback\n",
        "model_checkpoint = ModelCheckpoint(\n",
        "    'best_model.h5',  # Path where to save the model\n",
        "    monitor='val_loss',\n",
        "    save_best_only=True,  # Only save the best model\n",
        "    verbose=1\n",
        ")\n",
        "\n",
        "# Define the early stopping callback\n",
        "early_stopping = EarlyStopping(\n",
        "    monitor='val_loss',\n",
        "    patience=10,\n",
        "    verbose=1,\n",
        "    restore_best_weights=True\n",
        ")\n",
        "\n",
        "# Define the ReduceLROnPlateau callback\n",
        "reduce_lr = ReduceLROnPlateau(\n",
        "    monitor='val_loss',\n",
        "    factor=0.2,\n",
        "    patience=5,\n",
        "    min_lr=0.001,\n",
        "    verbose=1\n",
        ")\n",
        "\n",
        "# Train the model with the callbacks\n",
        "history = model.fit(\n",
        "    X_train,\n",
        "    y_train,\n",
        "    epochs=100,  # Adjust the number of epochs if necessary\n",
        "    validation_data=(X_test, y_test),\n",
        "    callbacks=[early_stopping, reduce_lr, model_checkpoint]  # Add ModelCheckpoint to the callbacks list\n",
        ")\n"
      ],
      "metadata": {
        "colab": {
          "base_uri": "https://localhost:8080/"
        },
        "id": "sRK7-VA-9SNz",
        "outputId": "3dfa4832-f99d-4295-9799-2c5a54ede835"
      },
      "id": "sRK7-VA-9SNz",
      "execution_count": 12,
      "outputs": [
        {
          "output_type": "stream",
          "name": "stdout",
          "text": [
            "Epoch 1/100\n",
            "2180/2189 [============================>.] - ETA: 0s - loss: 0.1183 - accuracy: 0.9681\n",
            "Epoch 1: val_loss improved from inf to 0.09765, saving model to best_model.h5\n",
            "2189/2189 [==============================] - 10s 5ms/step - loss: 0.1184 - accuracy: 0.9681 - val_loss: 0.0976 - val_accuracy: 0.9736 - lr: 0.0010\n",
            "Epoch 2/100\n",
            "  39/2189 [..............................] - ETA: 8s - loss: 0.1191 - accuracy: 0.9696"
          ]
        },
        {
          "output_type": "stream",
          "name": "stderr",
          "text": [
            "/usr/local/lib/python3.10/dist-packages/keras/src/engine/training.py:3103: UserWarning: You are saving your model as an HDF5 file via `model.save()`. This file format is considered legacy. We recommend using instead the native Keras format, e.g. `model.save('my_model.keras')`.\n",
            "  saving_api.save_model(\n"
          ]
        },
        {
          "output_type": "stream",
          "name": "stdout",
          "text": [
            "2181/2189 [============================>.] - ETA: 0s - loss: 0.1127 - accuracy: 0.9690\n",
            "Epoch 2: val_loss improved from 0.09765 to 0.09134, saving model to best_model.h5\n",
            "2189/2189 [==============================] - 10s 5ms/step - loss: 0.1125 - accuracy: 0.9690 - val_loss: 0.0913 - val_accuracy: 0.9742 - lr: 0.0010\n",
            "Epoch 3/100\n",
            "2181/2189 [============================>.] - ETA: 0s - loss: 0.1088 - accuracy: 0.9703\n",
            "Epoch 3: val_loss did not improve from 0.09134\n",
            "2189/2189 [==============================] - 10s 5ms/step - loss: 0.1087 - accuracy: 0.9704 - val_loss: 0.0951 - val_accuracy: 0.9745 - lr: 0.0010\n",
            "Epoch 4/100\n",
            "2189/2189 [==============================] - ETA: 0s - loss: 0.1039 - accuracy: 0.9714\n",
            "Epoch 4: val_loss improved from 0.09134 to 0.08341, saving model to best_model.h5\n",
            "2189/2189 [==============================] - 10s 5ms/step - loss: 0.1039 - accuracy: 0.9714 - val_loss: 0.0834 - val_accuracy: 0.9760 - lr: 0.0010\n",
            "Epoch 5/100\n",
            "2186/2189 [============================>.] - ETA: 0s - loss: 0.1013 - accuracy: 0.9719\n",
            "Epoch 5: val_loss improved from 0.08341 to 0.08326, saving model to best_model.h5\n",
            "2189/2189 [==============================] - 10s 5ms/step - loss: 0.1013 - accuracy: 0.9719 - val_loss: 0.0833 - val_accuracy: 0.9767 - lr: 0.0010\n",
            "Epoch 6/100\n",
            "2184/2189 [============================>.] - ETA: 0s - loss: 0.1007 - accuracy: 0.9725\n",
            "Epoch 6: val_loss did not improve from 0.08326\n",
            "2189/2189 [==============================] - 10s 5ms/step - loss: 0.1007 - accuracy: 0.9725 - val_loss: 0.0953 - val_accuracy: 0.9744 - lr: 0.0010\n",
            "Epoch 7/100\n",
            "2184/2189 [============================>.] - ETA: 0s - loss: 0.0963 - accuracy: 0.9738\n",
            "Epoch 7: val_loss improved from 0.08326 to 0.08261, saving model to best_model.h5\n",
            "2189/2189 [==============================] - 10s 5ms/step - loss: 0.0965 - accuracy: 0.9738 - val_loss: 0.0826 - val_accuracy: 0.9788 - lr: 0.0010\n",
            "Epoch 8/100\n",
            "2181/2189 [============================>.] - ETA: 0s - loss: 0.0938 - accuracy: 0.9745\n",
            "Epoch 8: val_loss improved from 0.08261 to 0.08088, saving model to best_model.h5\n",
            "2189/2189 [==============================] - 10s 5ms/step - loss: 0.0936 - accuracy: 0.9746 - val_loss: 0.0809 - val_accuracy: 0.9772 - lr: 0.0010\n",
            "Epoch 9/100\n",
            "2182/2189 [============================>.] - ETA: 0s - loss: 0.0895 - accuracy: 0.9755\n",
            "Epoch 9: val_loss improved from 0.08088 to 0.07768, saving model to best_model.h5\n",
            "2189/2189 [==============================] - 10s 5ms/step - loss: 0.0894 - accuracy: 0.9756 - val_loss: 0.0777 - val_accuracy: 0.9788 - lr: 0.0010\n",
            "Epoch 10/100\n",
            "2182/2189 [============================>.] - ETA: 0s - loss: 0.0897 - accuracy: 0.9745\n",
            "Epoch 10: val_loss improved from 0.07768 to 0.07697, saving model to best_model.h5\n",
            "2189/2189 [==============================] - 10s 5ms/step - loss: 0.0896 - accuracy: 0.9745 - val_loss: 0.0770 - val_accuracy: 0.9788 - lr: 0.0010\n",
            "Epoch 11/100\n",
            "2186/2189 [============================>.] - ETA: 0s - loss: 0.0873 - accuracy: 0.9765\n",
            "Epoch 11: val_loss improved from 0.07697 to 0.06820, saving model to best_model.h5\n",
            "2189/2189 [==============================] - 10s 5ms/step - loss: 0.0872 - accuracy: 0.9765 - val_loss: 0.0682 - val_accuracy: 0.9804 - lr: 0.0010\n",
            "Epoch 12/100\n",
            "2186/2189 [============================>.] - ETA: 0s - loss: 0.0850 - accuracy: 0.9765\n",
            "Epoch 12: val_loss did not improve from 0.06820\n",
            "2189/2189 [==============================] - 10s 5ms/step - loss: 0.0852 - accuracy: 0.9765 - val_loss: 0.0767 - val_accuracy: 0.9782 - lr: 0.0010\n",
            "Epoch 13/100\n",
            "2183/2189 [============================>.] - ETA: 0s - loss: 0.0824 - accuracy: 0.9771\n",
            "Epoch 13: val_loss did not improve from 0.06820\n",
            "2189/2189 [==============================] - 10s 5ms/step - loss: 0.0825 - accuracy: 0.9771 - val_loss: 0.0728 - val_accuracy: 0.9804 - lr: 0.0010\n",
            "Epoch 14/100\n",
            "2185/2189 [============================>.] - ETA: 0s - loss: 0.0820 - accuracy: 0.9776\n",
            "Epoch 14: val_loss did not improve from 0.06820\n",
            "2189/2189 [==============================] - 10s 5ms/step - loss: 0.0820 - accuracy: 0.9776 - val_loss: 0.0709 - val_accuracy: 0.9806 - lr: 0.0010\n",
            "Epoch 15/100\n",
            "2180/2189 [============================>.] - ETA: 0s - loss: 0.0792 - accuracy: 0.9780\n",
            "Epoch 15: val_loss did not improve from 0.06820\n",
            "2189/2189 [==============================] - 10s 5ms/step - loss: 0.0791 - accuracy: 0.9781 - val_loss: 0.0720 - val_accuracy: 0.9809 - lr: 0.0010\n",
            "Epoch 16/100\n",
            "2177/2189 [============================>.] - ETA: 0s - loss: 0.0789 - accuracy: 0.9781\n",
            "Epoch 16: val_loss improved from 0.06820 to 0.06663, saving model to best_model.h5\n",
            "2189/2189 [==============================] - 10s 5ms/step - loss: 0.0790 - accuracy: 0.9780 - val_loss: 0.0666 - val_accuracy: 0.9814 - lr: 0.0010\n",
            "Epoch 17/100\n",
            "2177/2189 [============================>.] - ETA: 0s - loss: 0.0751 - accuracy: 0.9790\n",
            "Epoch 17: val_loss did not improve from 0.06663\n",
            "2189/2189 [==============================] - 10s 5ms/step - loss: 0.0753 - accuracy: 0.9790 - val_loss: 0.0670 - val_accuracy: 0.9825 - lr: 0.0010\n",
            "Epoch 18/100\n",
            "2182/2189 [============================>.] - ETA: 0s - loss: 0.0757 - accuracy: 0.9790\n",
            "Epoch 18: val_loss did not improve from 0.06663\n",
            "2189/2189 [==============================] - 10s 5ms/step - loss: 0.0757 - accuracy: 0.9790 - val_loss: 0.0690 - val_accuracy: 0.9798 - lr: 0.0010\n",
            "Epoch 19/100\n",
            "2177/2189 [============================>.] - ETA: 0s - loss: 0.0734 - accuracy: 0.9794\n",
            "Epoch 19: val_loss did not improve from 0.06663\n",
            "2189/2189 [==============================] - 10s 5ms/step - loss: 0.0733 - accuracy: 0.9794 - val_loss: 0.0702 - val_accuracy: 0.9804 - lr: 0.0010\n",
            "Epoch 20/100\n",
            "2180/2189 [============================>.] - ETA: 0s - loss: 0.0714 - accuracy: 0.9801\n",
            "Epoch 20: val_loss improved from 0.06663 to 0.06609, saving model to best_model.h5\n",
            "2189/2189 [==============================] - 10s 5ms/step - loss: 0.0714 - accuracy: 0.9800 - val_loss: 0.0661 - val_accuracy: 0.9829 - lr: 0.0010\n",
            "Epoch 21/100\n",
            "2182/2189 [============================>.] - ETA: 0s - loss: 0.0713 - accuracy: 0.9803\n",
            "Epoch 21: val_loss did not improve from 0.06609\n",
            "2189/2189 [==============================] - 10s 5ms/step - loss: 0.0713 - accuracy: 0.9803 - val_loss: 0.0708 - val_accuracy: 0.9825 - lr: 0.0010\n",
            "Epoch 22/100\n",
            "2180/2189 [============================>.] - ETA: 0s - loss: 0.0703 - accuracy: 0.9802\n",
            "Epoch 22: val_loss did not improve from 0.06609\n",
            "2189/2189 [==============================] - 10s 5ms/step - loss: 0.0702 - accuracy: 0.9803 - val_loss: 0.0671 - val_accuracy: 0.9817 - lr: 0.0010\n",
            "Epoch 23/100\n",
            "2188/2189 [============================>.] - ETA: 0s - loss: 0.0685 - accuracy: 0.9810\n",
            "Epoch 23: val_loss did not improve from 0.06609\n",
            "2189/2189 [==============================] - 10s 5ms/step - loss: 0.0685 - accuracy: 0.9810 - val_loss: 0.0679 - val_accuracy: 0.9821 - lr: 0.0010\n",
            "Epoch 24/100\n",
            "2187/2189 [============================>.] - ETA: 0s - loss: 0.0682 - accuracy: 0.9803\n",
            "Epoch 24: val_loss did not improve from 0.06609\n",
            "2189/2189 [==============================] - 10s 5ms/step - loss: 0.0681 - accuracy: 0.9803 - val_loss: 0.0683 - val_accuracy: 0.9817 - lr: 0.0010\n",
            "Epoch 25/100\n",
            "2185/2189 [============================>.] - ETA: 0s - loss: 0.0672 - accuracy: 0.9809\n",
            "Epoch 25: val_loss did not improve from 0.06609\n",
            "2189/2189 [==============================] - 10s 4ms/step - loss: 0.0671 - accuracy: 0.9809 - val_loss: 0.0668 - val_accuracy: 0.9825 - lr: 0.0010\n",
            "Epoch 26/100\n",
            "2180/2189 [============================>.] - ETA: 0s - loss: 0.0662 - accuracy: 0.9812\n",
            "Epoch 26: val_loss did not improve from 0.06609\n",
            "2189/2189 [==============================] - 10s 5ms/step - loss: 0.0662 - accuracy: 0.9812 - val_loss: 0.0701 - val_accuracy: 0.9823 - lr: 0.0010\n",
            "Epoch 27/100\n",
            "2187/2189 [============================>.] - ETA: 0s - loss: 0.0644 - accuracy: 0.9813\n",
            "Epoch 27: val_loss did not improve from 0.06609\n",
            "2189/2189 [==============================] - 10s 5ms/step - loss: 0.0643 - accuracy: 0.9814 - val_loss: 0.0724 - val_accuracy: 0.9817 - lr: 0.0010\n",
            "Epoch 28/100\n",
            "2182/2189 [============================>.] - ETA: 0s - loss: 0.0637 - accuracy: 0.9818\n",
            "Epoch 28: val_loss improved from 0.06609 to 0.06451, saving model to best_model.h5\n",
            "2189/2189 [==============================] - 10s 5ms/step - loss: 0.0637 - accuracy: 0.9818 - val_loss: 0.0645 - val_accuracy: 0.9824 - lr: 0.0010\n",
            "Epoch 29/100\n",
            "2185/2189 [============================>.] - ETA: 0s - loss: 0.0637 - accuracy: 0.9819\n",
            "Epoch 29: val_loss improved from 0.06451 to 0.06232, saving model to best_model.h5\n",
            "2189/2189 [==============================] - 10s 5ms/step - loss: 0.0636 - accuracy: 0.9819 - val_loss: 0.0623 - val_accuracy: 0.9837 - lr: 0.0010\n",
            "Epoch 30/100\n",
            "2180/2189 [============================>.] - ETA: 0s - loss: 0.0628 - accuracy: 0.9820\n",
            "Epoch 30: val_loss did not improve from 0.06232\n",
            "2189/2189 [==============================] - 10s 5ms/step - loss: 0.0627 - accuracy: 0.9820 - val_loss: 0.0671 - val_accuracy: 0.9829 - lr: 0.0010\n",
            "Epoch 31/100\n",
            "2180/2189 [============================>.] - ETA: 0s - loss: 0.0620 - accuracy: 0.9824\n",
            "Epoch 31: val_loss did not improve from 0.06232\n",
            "2189/2189 [==============================] - 10s 5ms/step - loss: 0.0619 - accuracy: 0.9824 - val_loss: 0.0670 - val_accuracy: 0.9826 - lr: 0.0010\n",
            "Epoch 32/100\n",
            "2189/2189 [==============================] - ETA: 0s - loss: 0.0601 - accuracy: 0.9825\n",
            "Epoch 32: val_loss did not improve from 0.06232\n",
            "2189/2189 [==============================] - 10s 5ms/step - loss: 0.0601 - accuracy: 0.9825 - val_loss: 0.0663 - val_accuracy: 0.9826 - lr: 0.0010\n",
            "Epoch 33/100\n",
            "2181/2189 [============================>.] - ETA: 0s - loss: 0.0608 - accuracy: 0.9822\n",
            "Epoch 33: val_loss did not improve from 0.06232\n",
            "2189/2189 [==============================] - 10s 4ms/step - loss: 0.0608 - accuracy: 0.9822 - val_loss: 0.0634 - val_accuracy: 0.9840 - lr: 0.0010\n",
            "Epoch 34/100\n",
            "2178/2189 [============================>.] - ETA: 0s - loss: 0.0585 - accuracy: 0.9835\n",
            "Epoch 34: val_loss did not improve from 0.06232\n",
            "2189/2189 [==============================] - 10s 5ms/step - loss: 0.0585 - accuracy: 0.9834 - val_loss: 0.0654 - val_accuracy: 0.9821 - lr: 0.0010\n",
            "Epoch 35/100\n",
            "2181/2189 [============================>.] - ETA: 0s - loss: 0.0589 - accuracy: 0.9831\n",
            "Epoch 35: val_loss did not improve from 0.06232\n",
            "2189/2189 [==============================] - 10s 5ms/step - loss: 0.0589 - accuracy: 0.9831 - val_loss: 0.0627 - val_accuracy: 0.9830 - lr: 0.0010\n",
            "Epoch 36/100\n",
            "2181/2189 [============================>.] - ETA: 0s - loss: 0.0589 - accuracy: 0.9830\n",
            "Epoch 36: val_loss did not improve from 0.06232\n",
            "2189/2189 [==============================] - 10s 5ms/step - loss: 0.0590 - accuracy: 0.9830 - val_loss: 0.0635 - val_accuracy: 0.9832 - lr: 0.0010\n",
            "Epoch 37/100\n",
            "2186/2189 [============================>.] - ETA: 0s - loss: 0.0562 - accuracy: 0.9832\n",
            "Epoch 37: val_loss did not improve from 0.06232\n",
            "2189/2189 [==============================] - 10s 5ms/step - loss: 0.0562 - accuracy: 0.9832 - val_loss: 0.0647 - val_accuracy: 0.9832 - lr: 0.0010\n",
            "Epoch 38/100\n",
            "2186/2189 [============================>.] - ETA: 0s - loss: 0.0570 - accuracy: 0.9832\n",
            "Epoch 38: val_loss did not improve from 0.06232\n",
            "2189/2189 [==============================] - 10s 5ms/step - loss: 0.0569 - accuracy: 0.9832 - val_loss: 0.0667 - val_accuracy: 0.9835 - lr: 0.0010\n",
            "Epoch 39/100\n",
            "2185/2189 [============================>.] - ETA: 0s - loss: 0.0571 - accuracy: 0.9829Restoring model weights from the end of the best epoch: 29.\n",
            "\n",
            "Epoch 39: val_loss did not improve from 0.06232\n",
            "2189/2189 [==============================] - 10s 5ms/step - loss: 0.0571 - accuracy: 0.9829 - val_loss: 0.0666 - val_accuracy: 0.9824 - lr: 0.0010\n",
            "Epoch 39: early stopping\n"
          ]
        }
      ]
    },
    {
      "cell_type": "code",
      "source": [
        "from tensorflow.keras.models import Sequential\n",
        "from tensorflow.keras.layers import Conv1D, MaxPooling1D, GlobalAveragePooling1D, Dense, Dropout, BatchNormalization\n",
        "\n",
        "# Assuming your input shape is (timesteps, features)\n",
        "input_shape = (187, 1)  # Adjusted input shape to match your dataset\n",
        "\n",
        "model = Sequential([\n",
        "    Conv1D(filters=64, kernel_size=5, activation='relu', input_shape=input_shape),\n",
        "    BatchNormalization(),  # Batch Normalization layer after Convolution\n",
        "    MaxPooling1D(pool_size=2),\n",
        "    Dropout(0.1),\n",
        "\n",
        "    Conv1D(filters=128, kernel_size=3, activation='relu'),\n",
        "    BatchNormalization(),  # Another Batch Normalization layer\n",
        "    MaxPooling1D(pool_size=2),\n",
        "    Dropout(0.1),\n",
        "\n",
        "    Conv1D(filters=256, kernel_size=3, activation='relu'),\n",
        "    BatchNormalization(),  # And another one\n",
        "    GlobalAveragePooling1D(),\n",
        "\n",
        "    Dense(100, activation='relu'),\n",
        "    Dropout(0.5),\n",
        "    Dense(5, activation='softmax')  # Adjusted for 5 classes\n",
        "])\n",
        "\n",
        "model.compile(optimizer='adam', loss='categorical_crossentropy', metrics=['accuracy'])\n",
        "model.summary()\n"
      ],
      "metadata": {
        "colab": {
          "base_uri": "https://localhost:8080/"
        },
        "id": "ZJcPnKch3GC9",
        "outputId": "42ab9379-57ca-4920-f09a-b759f3ceadca"
      },
      "id": "ZJcPnKch3GC9",
      "execution_count": 15,
      "outputs": [
        {
          "output_type": "stream",
          "name": "stdout",
          "text": [
            "Model: \"sequential_1\"\n",
            "_________________________________________________________________\n",
            " Layer (type)                Output Shape              Param #   \n",
            "=================================================================\n",
            " conv1d_3 (Conv1D)           (None, 183, 64)           384       \n",
            "                                                                 \n",
            " batch_normalization (Batch  (None, 183, 64)           256       \n",
            " Normalization)                                                  \n",
            "                                                                 \n",
            " max_pooling1d_2 (MaxPoolin  (None, 91, 64)            0         \n",
            " g1D)                                                            \n",
            "                                                                 \n",
            " dropout_3 (Dropout)         (None, 91, 64)            0         \n",
            "                                                                 \n",
            " conv1d_4 (Conv1D)           (None, 89, 128)           24704     \n",
            "                                                                 \n",
            " batch_normalization_1 (Bat  (None, 89, 128)           512       \n",
            " chNormalization)                                                \n",
            "                                                                 \n",
            " max_pooling1d_3 (MaxPoolin  (None, 44, 128)           0         \n",
            " g1D)                                                            \n",
            "                                                                 \n",
            " dropout_4 (Dropout)         (None, 44, 128)           0         \n",
            "                                                                 \n",
            " conv1d_5 (Conv1D)           (None, 42, 256)           98560     \n",
            "                                                                 \n",
            " batch_normalization_2 (Bat  (None, 42, 256)           1024      \n",
            " chNormalization)                                                \n",
            "                                                                 \n",
            " global_average_pooling1d_1  (None, 256)               0         \n",
            "  (GlobalAveragePooling1D)                                       \n",
            "                                                                 \n",
            " dense_2 (Dense)             (None, 100)               25700     \n",
            "                                                                 \n",
            " dropout_5 (Dropout)         (None, 100)               0         \n",
            "                                                                 \n",
            " dense_3 (Dense)             (None, 5)                 505       \n",
            "                                                                 \n",
            "=================================================================\n",
            "Total params: 151645 (592.36 KB)\n",
            "Trainable params: 150749 (588.86 KB)\n",
            "Non-trainable params: 896 (3.50 KB)\n",
            "_________________________________________________________________\n"
          ]
        }
      ]
    },
    {
      "cell_type": "code",
      "source": [
        "import numpy as np\n",
        "from tensorflow.keras.utils import to_categorical\n",
        "from sklearn.model_selection import train_test_split\n",
        "from tensorflow.keras.callbacks import EarlyStopping, ReduceLROnPlateau, ModelCheckpoint\n",
        "\n",
        "# Assuming fazeli_mitbih_train_df is your DataFrame and the last column is the label\n",
        "X = fazeli_mitbih_train_df.iloc[:, :-1].values\n",
        "y = fazeli_mitbih_train_df.iloc[:, -1].values\n",
        "\n",
        "# Reshape X to fit the Conv1D input requirements and convert y to categorical\n",
        "X_reshaped = X.reshape((X.shape[0], X.shape[1], 1))\n",
        "y_categorical = to_categorical(y)\n",
        "\n",
        "# Split the data\n",
        "X_train, X_test, y_train, y_test = train_test_split(X_reshaped, y_categorical, test_size=0.2, random_state=42)\n",
        "\n",
        "# Define the ModelCheckpoint callback\n",
        "model_checkpoint = ModelCheckpoint(\n",
        "    'best_model.h5',  # Path where to save the model\n",
        "    monitor='val_loss',\n",
        "    save_best_only=True,  # Only save the best model\n",
        "    verbose=1\n",
        ")\n",
        "\n",
        "# Define the early stopping callback\n",
        "early_stopping = EarlyStopping(\n",
        "    monitor='val_loss',\n",
        "    patience=10,\n",
        "    verbose=1,\n",
        "    restore_best_weights=True\n",
        ")\n",
        "\n",
        "# Define the ReduceLROnPlateau callback\n",
        "reduce_lr = ReduceLROnPlateau(\n",
        "    monitor='val_loss',\n",
        "    factor=0.2,\n",
        "    patience=5,\n",
        "    min_lr=0.001,\n",
        "    verbose=1\n",
        ")\n",
        "\n",
        "# Train the model with the callbacks\n",
        "history = model.fit(\n",
        "    X_train,\n",
        "    y_train,\n",
        "    epochs=100,  # Adjust the number of epochs if necessary\n",
        "    validation_data=(X_test, y_test),\n",
        "    callbacks=[early_stopping, reduce_lr, model_checkpoint]  # Add ModelCheckpoint to the callbacks list\n",
        ")\n"
      ],
      "metadata": {
        "colab": {
          "base_uri": "https://localhost:8080/"
        },
        "id": "uXN32U4WAonf",
        "outputId": "95147839-c363-4236-f205-259c99fa8cf1"
      },
      "id": "uXN32U4WAonf",
      "execution_count": 16,
      "outputs": [
        {
          "output_type": "stream",
          "name": "stdout",
          "text": [
            "Epoch 1/100\n",
            "2183/2189 [============================>.] - ETA: 0s - loss: 0.2579 - accuracy: 0.9287\n",
            "Epoch 1: val_loss improved from inf to 0.15190, saving model to best_model.h5\n",
            "2189/2189 [==============================] - 18s 7ms/step - loss: 0.2580 - accuracy: 0.9287 - val_loss: 0.1519 - val_accuracy: 0.9611 - lr: 0.0010\n",
            "Epoch 2/100\n",
            "  19/2189 [..............................] - ETA: 13s - loss: 0.1197 - accuracy: 0.9655"
          ]
        },
        {
          "output_type": "stream",
          "name": "stderr",
          "text": [
            "/usr/local/lib/python3.10/dist-packages/keras/src/engine/training.py:3103: UserWarning: You are saving your model as an HDF5 file via `model.save()`. This file format is considered legacy. We recommend using instead the native Keras format, e.g. `model.save('my_model.keras')`.\n",
            "  saving_api.save_model(\n"
          ]
        },
        {
          "output_type": "stream",
          "name": "stdout",
          "text": [
            "2185/2189 [============================>.] - ETA: 0s - loss: 0.1517 - accuracy: 0.9583\n",
            "Epoch 2: val_loss did not improve from 0.15190\n",
            "2189/2189 [==============================] - 14s 6ms/step - loss: 0.1516 - accuracy: 0.9584 - val_loss: 0.1894 - val_accuracy: 0.9445 - lr: 0.0010\n",
            "Epoch 3/100\n",
            "2186/2189 [============================>.] - ETA: 0s - loss: 0.1279 - accuracy: 0.9650\n",
            "Epoch 3: val_loss improved from 0.15190 to 0.10350, saving model to best_model.h5\n",
            "2189/2189 [==============================] - 15s 7ms/step - loss: 0.1280 - accuracy: 0.9650 - val_loss: 0.1035 - val_accuracy: 0.9707 - lr: 0.0010\n",
            "Epoch 4/100\n",
            "2182/2189 [============================>.] - ETA: 0s - loss: 0.1175 - accuracy: 0.9677\n",
            "Epoch 4: val_loss improved from 0.10350 to 0.09959, saving model to best_model.h5\n",
            "2189/2189 [==============================] - 15s 7ms/step - loss: 0.1175 - accuracy: 0.9677 - val_loss: 0.0996 - val_accuracy: 0.9750 - lr: 0.0010\n",
            "Epoch 5/100\n",
            "2186/2189 [============================>.] - ETA: 0s - loss: 0.1080 - accuracy: 0.9701\n",
            "Epoch 5: val_loss improved from 0.09959 to 0.08106, saving model to best_model.h5\n",
            "2189/2189 [==============================] - 15s 7ms/step - loss: 0.1080 - accuracy: 0.9701 - val_loss: 0.0811 - val_accuracy: 0.9772 - lr: 0.0010\n",
            "Epoch 6/100\n",
            "2187/2189 [============================>.] - ETA: 0s - loss: 0.0986 - accuracy: 0.9725\n",
            "Epoch 6: val_loss did not improve from 0.08106\n",
            "2189/2189 [==============================] - 14s 7ms/step - loss: 0.0985 - accuracy: 0.9725 - val_loss: 0.1212 - val_accuracy: 0.9621 - lr: 0.0010\n",
            "Epoch 7/100\n",
            "2187/2189 [============================>.] - ETA: 0s - loss: 0.0946 - accuracy: 0.9743\n",
            "Epoch 7: val_loss did not improve from 0.08106\n",
            "2189/2189 [==============================] - 14s 7ms/step - loss: 0.0945 - accuracy: 0.9743 - val_loss: 0.1010 - val_accuracy: 0.9721 - lr: 0.0010\n",
            "Epoch 8/100\n",
            "2182/2189 [============================>.] - ETA: 0s - loss: 0.0909 - accuracy: 0.9748\n",
            "Epoch 8: val_loss improved from 0.08106 to 0.07551, saving model to best_model.h5\n",
            "2189/2189 [==============================] - 15s 7ms/step - loss: 0.0909 - accuracy: 0.9748 - val_loss: 0.0755 - val_accuracy: 0.9770 - lr: 0.0010\n",
            "Epoch 9/100\n",
            "2186/2189 [============================>.] - ETA: 0s - loss: 0.0871 - accuracy: 0.9762\n",
            "Epoch 9: val_loss improved from 0.07551 to 0.06947, saving model to best_model.h5\n",
            "2189/2189 [==============================] - 15s 7ms/step - loss: 0.0871 - accuracy: 0.9763 - val_loss: 0.0695 - val_accuracy: 0.9822 - lr: 0.0010\n",
            "Epoch 10/100\n",
            "2181/2189 [============================>.] - ETA: 0s - loss: 0.0833 - accuracy: 0.9773\n",
            "Epoch 10: val_loss improved from 0.06947 to 0.06794, saving model to best_model.h5\n",
            "2189/2189 [==============================] - 15s 7ms/step - loss: 0.0832 - accuracy: 0.9773 - val_loss: 0.0679 - val_accuracy: 0.9814 - lr: 0.0010\n",
            "Epoch 11/100\n",
            "2182/2189 [============================>.] - ETA: 0s - loss: 0.0822 - accuracy: 0.9770\n",
            "Epoch 11: val_loss did not improve from 0.06794\n",
            "2189/2189 [==============================] - 15s 7ms/step - loss: 0.0821 - accuracy: 0.9770 - val_loss: 0.0767 - val_accuracy: 0.9786 - lr: 0.0010\n",
            "Epoch 12/100\n",
            "2182/2189 [============================>.] - ETA: 0s - loss: 0.0779 - accuracy: 0.9783\n",
            "Epoch 12: val_loss improved from 0.06794 to 0.06559, saving model to best_model.h5\n",
            "2189/2189 [==============================] - 15s 7ms/step - loss: 0.0780 - accuracy: 0.9783 - val_loss: 0.0656 - val_accuracy: 0.9819 - lr: 0.0010\n",
            "Epoch 13/100\n",
            "2189/2189 [==============================] - ETA: 0s - loss: 0.0767 - accuracy: 0.9788\n",
            "Epoch 13: val_loss did not improve from 0.06559\n",
            "2189/2189 [==============================] - 15s 7ms/step - loss: 0.0767 - accuracy: 0.9788 - val_loss: 0.0749 - val_accuracy: 0.9791 - lr: 0.0010\n",
            "Epoch 14/100\n",
            "2187/2189 [============================>.] - ETA: 0s - loss: 0.0752 - accuracy: 0.9794\n",
            "Epoch 14: val_loss did not improve from 0.06559\n",
            "2189/2189 [==============================] - 15s 7ms/step - loss: 0.0753 - accuracy: 0.9794 - val_loss: 0.2018 - val_accuracy: 0.9464 - lr: 0.0010\n",
            "Epoch 15/100\n",
            "2184/2189 [============================>.] - ETA: 0s - loss: 0.0717 - accuracy: 0.9802\n",
            "Epoch 15: val_loss improved from 0.06559 to 0.06092, saving model to best_model.h5\n",
            "2189/2189 [==============================] - 15s 7ms/step - loss: 0.0716 - accuracy: 0.9803 - val_loss: 0.0609 - val_accuracy: 0.9826 - lr: 0.0010\n",
            "Epoch 16/100\n",
            "2184/2189 [============================>.] - ETA: 0s - loss: 0.0721 - accuracy: 0.9798\n",
            "Epoch 16: val_loss did not improve from 0.06092\n",
            "2189/2189 [==============================] - 15s 7ms/step - loss: 0.0720 - accuracy: 0.9799 - val_loss: 0.0658 - val_accuracy: 0.9818 - lr: 0.0010\n",
            "Epoch 17/100\n",
            "2186/2189 [============================>.] - ETA: 0s - loss: 0.0693 - accuracy: 0.9803\n",
            "Epoch 17: val_loss did not improve from 0.06092\n",
            "2189/2189 [==============================] - 15s 7ms/step - loss: 0.0693 - accuracy: 0.9803 - val_loss: 0.0694 - val_accuracy: 0.9809 - lr: 0.0010\n",
            "Epoch 18/100\n",
            "2188/2189 [============================>.] - ETA: 0s - loss: 0.0665 - accuracy: 0.9810\n",
            "Epoch 18: val_loss did not improve from 0.06092\n",
            "2189/2189 [==============================] - 15s 7ms/step - loss: 0.0664 - accuracy: 0.9811 - val_loss: 0.0786 - val_accuracy: 0.9805 - lr: 0.0010\n",
            "Epoch 19/100\n",
            "2189/2189 [==============================] - ETA: 0s - loss: 0.0658 - accuracy: 0.9811\n",
            "Epoch 19: val_loss did not improve from 0.06092\n",
            "2189/2189 [==============================] - 15s 7ms/step - loss: 0.0658 - accuracy: 0.9811 - val_loss: 0.0740 - val_accuracy: 0.9805 - lr: 0.0010\n",
            "Epoch 20/100\n",
            "2182/2189 [============================>.] - ETA: 0s - loss: 0.0650 - accuracy: 0.9810\n",
            "Epoch 20: val_loss did not improve from 0.06092\n",
            "2189/2189 [==============================] - 15s 7ms/step - loss: 0.0650 - accuracy: 0.9810 - val_loss: 0.0670 - val_accuracy: 0.9824 - lr: 0.0010\n",
            "Epoch 21/100\n",
            "2185/2189 [============================>.] - ETA: 0s - loss: 0.0641 - accuracy: 0.9816\n",
            "Epoch 21: val_loss did not improve from 0.06092\n",
            "2189/2189 [==============================] - 15s 7ms/step - loss: 0.0641 - accuracy: 0.9816 - val_loss: 0.0702 - val_accuracy: 0.9816 - lr: 0.0010\n",
            "Epoch 22/100\n",
            "2181/2189 [============================>.] - ETA: 0s - loss: 0.0621 - accuracy: 0.9820\n",
            "Epoch 22: val_loss did not improve from 0.06092\n",
            "2189/2189 [==============================] - 15s 7ms/step - loss: 0.0621 - accuracy: 0.9820 - val_loss: 0.1484 - val_accuracy: 0.9689 - lr: 0.0010\n",
            "Epoch 23/100\n",
            "2183/2189 [============================>.] - ETA: 0s - loss: 0.0615 - accuracy: 0.9823\n",
            "Epoch 23: val_loss did not improve from 0.06092\n",
            "2189/2189 [==============================] - 15s 7ms/step - loss: 0.0616 - accuracy: 0.9823 - val_loss: 0.0732 - val_accuracy: 0.9812 - lr: 0.0010\n",
            "Epoch 24/100\n",
            "2182/2189 [============================>.] - ETA: 0s - loss: 0.0609 - accuracy: 0.9819\n",
            "Epoch 24: val_loss improved from 0.06092 to 0.05970, saving model to best_model.h5\n",
            "2189/2189 [==============================] - 14s 7ms/step - loss: 0.0608 - accuracy: 0.9820 - val_loss: 0.0597 - val_accuracy: 0.9829 - lr: 0.0010\n",
            "Epoch 25/100\n",
            "2183/2189 [============================>.] - ETA: 0s - loss: 0.0595 - accuracy: 0.9830\n",
            "Epoch 25: val_loss did not improve from 0.05970\n",
            "2189/2189 [==============================] - 15s 7ms/step - loss: 0.0595 - accuracy: 0.9830 - val_loss: 0.1028 - val_accuracy: 0.9702 - lr: 0.0010\n",
            "Epoch 26/100\n",
            "2189/2189 [==============================] - ETA: 0s - loss: 0.0595 - accuracy: 0.9827\n",
            "Epoch 26: val_loss did not improve from 0.05970\n",
            "2189/2189 [==============================] - 15s 7ms/step - loss: 0.0595 - accuracy: 0.9827 - val_loss: 0.0667 - val_accuracy: 0.9841 - lr: 0.0010\n",
            "Epoch 27/100\n",
            "2184/2189 [============================>.] - ETA: 0s - loss: 0.0572 - accuracy: 0.9839\n",
            "Epoch 27: val_loss did not improve from 0.05970\n",
            "2189/2189 [==============================] - 15s 7ms/step - loss: 0.0573 - accuracy: 0.9839 - val_loss: 0.0640 - val_accuracy: 0.9834 - lr: 0.0010\n",
            "Epoch 28/100\n",
            "2187/2189 [============================>.] - ETA: 0s - loss: 0.0562 - accuracy: 0.9833\n",
            "Epoch 28: val_loss improved from 0.05970 to 0.05830, saving model to best_model.h5\n",
            "2189/2189 [==============================] - 15s 7ms/step - loss: 0.0562 - accuracy: 0.9833 - val_loss: 0.0583 - val_accuracy: 0.9843 - lr: 0.0010\n",
            "Epoch 29/100\n",
            "2187/2189 [============================>.] - ETA: 0s - loss: 0.0573 - accuracy: 0.9831\n",
            "Epoch 29: val_loss did not improve from 0.05830\n",
            "2189/2189 [==============================] - 15s 7ms/step - loss: 0.0573 - accuracy: 0.9831 - val_loss: 0.0692 - val_accuracy: 0.9829 - lr: 0.0010\n",
            "Epoch 30/100\n",
            "2185/2189 [============================>.] - ETA: 0s - loss: 0.0554 - accuracy: 0.9839\n",
            "Epoch 30: val_loss improved from 0.05830 to 0.05776, saving model to best_model.h5\n",
            "2189/2189 [==============================] - 15s 7ms/step - loss: 0.0555 - accuracy: 0.9839 - val_loss: 0.0578 - val_accuracy: 0.9856 - lr: 0.0010\n",
            "Epoch 31/100\n",
            "2184/2189 [============================>.] - ETA: 0s - loss: 0.0542 - accuracy: 0.9838\n",
            "Epoch 31: val_loss did not improve from 0.05776\n",
            "2189/2189 [==============================] - 15s 7ms/step - loss: 0.0542 - accuracy: 0.9838 - val_loss: 0.0591 - val_accuracy: 0.9848 - lr: 0.0010\n",
            "Epoch 32/100\n",
            "2181/2189 [============================>.] - ETA: 0s - loss: 0.0546 - accuracy: 0.9841\n",
            "Epoch 32: val_loss did not improve from 0.05776\n",
            "2189/2189 [==============================] - 14s 7ms/step - loss: 0.0547 - accuracy: 0.9841 - val_loss: 0.0595 - val_accuracy: 0.9849 - lr: 0.0010\n",
            "Epoch 33/100\n",
            "2182/2189 [============================>.] - ETA: 0s - loss: 0.0523 - accuracy: 0.9845\n",
            "Epoch 33: val_loss did not improve from 0.05776\n",
            "2189/2189 [==============================] - 14s 7ms/step - loss: 0.0523 - accuracy: 0.9845 - val_loss: 0.0692 - val_accuracy: 0.9834 - lr: 0.0010\n",
            "Epoch 34/100\n",
            "2182/2189 [============================>.] - ETA: 0s - loss: 0.0534 - accuracy: 0.9839\n",
            "Epoch 34: val_loss did not improve from 0.05776\n",
            "2189/2189 [==============================] - 15s 7ms/step - loss: 0.0534 - accuracy: 0.9839 - val_loss: 0.0670 - val_accuracy: 0.9809 - lr: 0.0010\n",
            "Epoch 35/100\n",
            "2188/2189 [============================>.] - ETA: 0s - loss: 0.0529 - accuracy: 0.9841\n",
            "Epoch 35: val_loss did not improve from 0.05776\n",
            "2189/2189 [==============================] - 14s 7ms/step - loss: 0.0529 - accuracy: 0.9841 - val_loss: 0.0586 - val_accuracy: 0.9846 - lr: 0.0010\n",
            "Epoch 36/100\n",
            "2187/2189 [============================>.] - ETA: 0s - loss: 0.0520 - accuracy: 0.9851\n",
            "Epoch 36: val_loss improved from 0.05776 to 0.05427, saving model to best_model.h5\n",
            "2189/2189 [==============================] - 15s 7ms/step - loss: 0.0519 - accuracy: 0.9851 - val_loss: 0.0543 - val_accuracy: 0.9857 - lr: 0.0010\n",
            "Epoch 37/100\n",
            "2182/2189 [============================>.] - ETA: 0s - loss: 0.0514 - accuracy: 0.9852\n",
            "Epoch 37: val_loss did not improve from 0.05427\n",
            "2189/2189 [==============================] - 15s 7ms/step - loss: 0.0513 - accuracy: 0.9853 - val_loss: 0.0578 - val_accuracy: 0.9849 - lr: 0.0010\n",
            "Epoch 38/100\n",
            "2187/2189 [============================>.] - ETA: 0s - loss: 0.0508 - accuracy: 0.9845\n",
            "Epoch 38: val_loss did not improve from 0.05427\n",
            "2189/2189 [==============================] - 15s 7ms/step - loss: 0.0508 - accuracy: 0.9845 - val_loss: 0.0604 - val_accuracy: 0.9834 - lr: 0.0010\n",
            "Epoch 39/100\n",
            "2184/2189 [============================>.] - ETA: 0s - loss: 0.0504 - accuracy: 0.9854\n",
            "Epoch 39: val_loss did not improve from 0.05427\n",
            "2189/2189 [==============================] - 15s 7ms/step - loss: 0.0504 - accuracy: 0.9854 - val_loss: 0.0665 - val_accuracy: 0.9820 - lr: 0.0010\n",
            "Epoch 40/100\n",
            "2183/2189 [============================>.] - ETA: 0s - loss: 0.0494 - accuracy: 0.9853\n",
            "Epoch 40: val_loss did not improve from 0.05427\n",
            "2189/2189 [==============================] - 15s 7ms/step - loss: 0.0494 - accuracy: 0.9853 - val_loss: 0.0653 - val_accuracy: 0.9827 - lr: 0.0010\n",
            "Epoch 41/100\n",
            "2186/2189 [============================>.] - ETA: 0s - loss: 0.0509 - accuracy: 0.9852\n",
            "Epoch 41: val_loss did not improve from 0.05427\n",
            "2189/2189 [==============================] - 15s 7ms/step - loss: 0.0508 - accuracy: 0.9852 - val_loss: 0.0548 - val_accuracy: 0.9850 - lr: 0.0010\n",
            "Epoch 42/100\n",
            "2189/2189 [==============================] - ETA: 0s - loss: 0.0487 - accuracy: 0.9856\n",
            "Epoch 42: val_loss did not improve from 0.05427\n",
            "2189/2189 [==============================] - 15s 7ms/step - loss: 0.0487 - accuracy: 0.9856 - val_loss: 0.0596 - val_accuracy: 0.9849 - lr: 0.0010\n",
            "Epoch 43/100\n",
            "2189/2189 [==============================] - ETA: 0s - loss: 0.0482 - accuracy: 0.9860\n",
            "Epoch 43: val_loss did not improve from 0.05427\n",
            "2189/2189 [==============================] - 15s 7ms/step - loss: 0.0482 - accuracy: 0.9860 - val_loss: 0.0576 - val_accuracy: 0.9854 - lr: 0.0010\n",
            "Epoch 44/100\n",
            "2189/2189 [==============================] - ETA: 0s - loss: 0.0455 - accuracy: 0.9860\n",
            "Epoch 44: val_loss did not improve from 0.05427\n",
            "2189/2189 [==============================] - 15s 7ms/step - loss: 0.0455 - accuracy: 0.9860 - val_loss: 0.0578 - val_accuracy: 0.9858 - lr: 0.0010\n",
            "Epoch 45/100\n",
            "2183/2189 [============================>.] - ETA: 0s - loss: 0.0463 - accuracy: 0.9862\n",
            "Epoch 45: val_loss did not improve from 0.05427\n",
            "2189/2189 [==============================] - 15s 7ms/step - loss: 0.0465 - accuracy: 0.9862 - val_loss: 0.0615 - val_accuracy: 0.9847 - lr: 0.0010\n",
            "Epoch 46/100\n",
            "2185/2189 [============================>.] - ETA: 0s - loss: 0.0468 - accuracy: 0.9860Restoring model weights from the end of the best epoch: 36.\n",
            "\n",
            "Epoch 46: val_loss did not improve from 0.05427\n",
            "2189/2189 [==============================] - 14s 7ms/step - loss: 0.0468 - accuracy: 0.9860 - val_loss: 0.0676 - val_accuracy: 0.9844 - lr: 0.0010\n",
            "Epoch 46: early stopping\n"
          ]
        }
      ]
    },
    {
      "cell_type": "code",
      "source": [
        "import numpy as np\n",
        "from tensorflow.keras.utils import to_categorical\n",
        "\n",
        "# Assuming the last column is the label\n",
        "X_test_df = fazeli_mitbih_test_df.iloc[:, :-1].values\n",
        "y_test_df = fazeli_mitbih_test_df.iloc[:, -1].values\n",
        "\n",
        "# Reshape X to fit the Conv1D input requirements\n",
        "X_test_reshaped = X_test_df.reshape((X_test_df.shape[0], X_test_df.shape[1], 1))\n",
        "\n",
        "# Convert y to categorical if your model's output is categorical\n",
        "y_test_categorical = to_categorical(y_test_df)\n",
        "\n",
        "# Evaluate the model on the separate test set\n",
        "test_loss, test_accuracy = model.evaluate(X_test_reshaped, y_test_categorical)\n",
        "print(f\"Test Loss: {test_loss}\")\n",
        "print(f\"Test Accuracy: {test_accuracy}\")\n"
      ],
      "metadata": {
        "colab": {
          "base_uri": "https://localhost:8080/"
        },
        "id": "9vmNFaTVAtFE",
        "outputId": "678280ab-9f3f-4479-f1c9-b8c07137ce06"
      },
      "id": "9vmNFaTVAtFE",
      "execution_count": 19,
      "outputs": [
        {
          "output_type": "stream",
          "name": "stdout",
          "text": [
            "685/685 [==============================] - 2s 3ms/step - loss: 0.0649 - accuracy: 0.9846\n",
            "Test Loss: 0.06490693241357803\n",
            "Test Accuracy: 0.9845605492591858\n"
          ]
        }
      ]
    },
    {
      "cell_type": "code",
      "source": [],
      "metadata": {
        "id": "GICFqu-CFd4R"
      },
      "id": "GICFqu-CFd4R",
      "execution_count": null,
      "outputs": []
    }
  ],
  "metadata": {
    "kernelspec": {
      "display_name": "Python [conda env:tf-gpu] *",
      "language": "python",
      "name": "conda-env-tf-gpu-py"
    },
    "language_info": {
      "codemirror_mode": {
        "name": "ipython",
        "version": 3
      },
      "file_extension": ".py",
      "mimetype": "text/x-python",
      "name": "python",
      "nbconvert_exporter": "python",
      "pygments_lexer": "ipython3",
      "version": "3.9.18"
    },
    "colab": {
      "provenance": [],
      "machine_shape": "hm",
      "gpuType": "V100"
    },
    "accelerator": "GPU"
  },
  "nbformat": 4,
  "nbformat_minor": 5
}